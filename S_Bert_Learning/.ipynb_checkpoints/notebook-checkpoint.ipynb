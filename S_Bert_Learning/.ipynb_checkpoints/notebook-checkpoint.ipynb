{
 "cells": [
  {
   "attachments": {},
   "cell_type": "markdown",
   "metadata": {},
   "source": [
    "### Trying out Sentence Bert\n",
    "\n",
    "run some small data locally and then use LambdaLab to run larger data\n",
    "\n",
    "installation:\n",
    "```\n",
    "pip uninstall sentencepiece\n",
    "pip install -U accelerate --quiet\n",
    "pip install -U sentence-transformers \n",
    "pip install -U transformers\n",
    "```\n"
   ]
  },
  {
   "attachments": {},
   "cell_type": "markdown",
   "metadata": {},
   "source": [
    "Common Installation Issue; \n",
    "\n",
    "1. sentencepiece\n",
    "```\n",
    "RuntimeError: Failed to import transformers.models.camembert.configuration_camembert because of the following error (look up to see its traceback):\n",
    "dlopen(/opt/anaconda3/envs/transformer/lib/python3.7/site-packages/sentencepiece/_sentencepiece.cpython-37m-darwin.so, 2): Symbol not found: ____chkstk_darwin\n",
    "  Referenced from: /opt/anaconda3/envs/transformer/lib/python3.7/site-packages/sentencepiece/_sentencepiece.cpython-37m-darwin.so\n",
    "  Expected in: /usr/lib/libSystem.B.dylib\n",
    " in /opt/anaconda3/envs/transformer/lib/python3.7/site-packages/sentencepiece/_sentencepiece.cpython-37m-darwin.so\n",
    "```\n",
    "- solution: uninstall sentencepiece and then pip install -U accelerate --quiet (thanks to chatGPT)"
   ]
  },
  {
   "cell_type": "code",
   "execution_count": null,
   "metadata": {},
   "outputs": [
    {
     "ename": "",
     "evalue": "",
     "output_type": "error",
     "traceback": [
      "\u001b[1;31mRunning cells with 'pytorch_py38' requires the ipykernel package.\n",
      "\u001b[1;31mRun the following command to install 'ipykernel' into the Python environment. \n",
      "\u001b[1;31mCommand: 'conda install -n pytorch_py38 ipykernel --update-deps --force-reinstall'"
     ]
    }
   ],
   "source": [
    "print('hello')"
   ]
  },
  {
   "cell_type": "code",
   "execution_count": null,
   "metadata": {},
   "outputs": [
    {
     "ename": "",
     "evalue": "",
     "output_type": "error",
     "traceback": [
      "\u001b[1;31mRunning cells with 'pytorch_py38' requires the ipykernel package.\n",
      "\u001b[1;31mRun the following command to install 'ipykernel' into the Python environment. \n",
      "\u001b[1;31mCommand: 'conda install -n pytorch_py38 ipykernel --update-deps --force-reinstall'"
     ]
    }
   ],
   "source": [
    "from transformers import pipeline"
   ]
  },
  {
   "cell_type": "code",
   "execution_count": 6,
   "metadata": {},
   "outputs": [],
   "source": [
    "# having issue import this on python 3.7\n",
    "# Failed to import transformers.models.auto because of the following error (look up to see its traceback):\n",
    "# fix...\"I worked when I did pip uninstall tokenizers and pip install transformers\".. but now import transformers faield. \n",
    "# https://github.com/huggingface/transformers/issues/18549\n",
    "from sentence_transformers import SentenceTransformer, util, models"
   ]
  },
  {
   "cell_type": "code",
   "execution_count": 3,
   "metadata": {},
   "outputs": [],
   "source": [
    "model = SentenceTransformer('all-MiniLM-L6-v2')\n"
   ]
  },
  {
   "attachments": {},
   "cell_type": "markdown",
   "metadata": {},
   "source": []
  },
  {
   "attachments": {},
   "cell_type": "markdown",
   "metadata": {},
   "source": [
    "--------\n",
    "pause here today (11/17/23) too many dev ops install issue...\n",
    "\n",
    "oh I solved by \n",
    "- pip uninstall sentencepiece\n",
    "- pip install -U accelerate --quiet\n",
    "\n",
    "(now both transformer and sentence-trnasformer worked)"
   ]
  },
  {
   "cell_type": "code",
   "execution_count": null,
   "metadata": {},
   "outputs": [],
   "source": [
    "#Our sentences we like to encode\n",
    "sentences = ['This framework generates embeddings for each input sentence',\n",
    "    'Sentences are passed as a list of string.', \n",
    "    'The quick brown fox jumps over the lazy dog.']\n",
    "\n",
    "#Sentences are encoded by calling model.encode()\n",
    "sentence_embeddings = model.encode(sentences)\n",
    "\n",
    "#Print the embeddings\n",
    "for sentence, embedding in zip(sentences, sentence_embeddings):\n",
    "    print(\"Sentence:\", sentence)\n",
    "    print(\"Embedding:\", embedding)\n",
    "    print(\"\")"
   ]
  },
  {
   "cell_type": "code",
   "execution_count": 7,
   "metadata": {},
   "outputs": [
    {
     "name": "stdout",
     "output_type": "stream",
     "text": [
      "Similarity: tensor([[0.5627, 0.5645]])\n"
     ]
    }
   ],
   "source": [
    "query_embedding = model.encode('How big is London')\n",
    "passage_embedding = model.encode(['London has 9,787,426 inhabitants at the 2011 census',\n",
    "                                  'London is known for its finacial district'])\n",
    "\n",
    "print(\"Similarity:\", util.dot_score(query_embedding, passage_embedding))"
   ]
  },
  {
   "cell_type": "code",
   "execution_count": 8,
   "metadata": {},
   "outputs": [
    {
     "name": "stderr",
     "output_type": "stream",
     "text": [
      "Downloading .gitattributes: 100%|██████████| 690/690 [00:00<00:00, 67.1kB/s]\n",
      "Downloading 1_Pooling/config.json: 100%|██████████| 190/190 [00:00<00:00, 29.5kB/s]\n",
      "Downloading README.md: 100%|██████████| 3.99k/3.99k [00:00<00:00, 1.14MB/s]\n",
      "Downloading config.json: 100%|██████████| 550/550 [00:00<00:00, 156kB/s]\n",
      "Downloading (…)ce_transformers.json: 100%|██████████| 122/122 [00:00<00:00, 32.0kB/s]\n",
      "Downloading pytorch_model.bin: 100%|██████████| 265M/265M [01:01<00:00, 4.30MB/s] \n",
      "Downloading (…)nce_bert_config.json: 100%|██████████| 53.0/53.0 [00:00<00:00, 12.1kB/s]\n",
      "Downloading (…)cial_tokens_map.json: 100%|██████████| 112/112 [00:00<00:00, 25.9kB/s]\n",
      "Downloading tokenizer.json: 100%|██████████| 466k/466k [00:00<00:00, 1.68MB/s]\n",
      "Downloading tokenizer_config.json: 100%|██████████| 450/450 [00:00<00:00, 122kB/s]\n",
      "Downloading vocab.txt: 100%|██████████| 232k/232k [00:00<00:00, 3.60MB/s]\n",
      "Downloading modules.json: 100%|██████████| 229/229 [00:00<00:00, 55.6kB/s]\n"
     ]
    }
   ],
   "source": [
    "# training\n",
    "from sentence_transformers import SentenceTransformer, InputExample\n",
    "from torch.utils.data import DataLoader\n",
    "\n",
    "model = SentenceTransformer('distilbert-base-nli-mean-tokens')\n",
    "train_examples = [InputExample(texts=['My first sentence', 'My second sentence'], label=0.8),\n",
    "   InputExample(texts=['Another pair', 'Unrelated sentence'], label=0.3)]\n",
    "train_dataloader = DataLoader(train_examples, shuffle=True, batch_size=16)"
   ]
  },
  {
   "cell_type": "code",
   "execution_count": null,
   "metadata": {},
   "outputs": [],
   "source": []
  }
 ],
 "metadata": {
  "kernelspec": {
   "display_name": "transformer",
   "language": "python",
   "name": "python3"
  },
  "language_info": {
   "codemirror_mode": {
    "name": "ipython",
    "version": 3
   },
   "file_extension": ".py",
   "mimetype": "text/x-python",
   "name": "python",
   "nbconvert_exporter": "python",
   "pygments_lexer": "ipython3",
   "version": "3.8.18"
  },
  "orig_nbformat": 4
 },
 "nbformat": 4,
 "nbformat_minor": 2
}
