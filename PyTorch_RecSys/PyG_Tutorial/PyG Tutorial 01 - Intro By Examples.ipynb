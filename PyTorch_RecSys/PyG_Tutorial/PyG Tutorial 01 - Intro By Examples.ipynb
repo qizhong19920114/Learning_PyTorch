{
 "cells": [
  {
   "cell_type": "markdown",
   "id": "a0548757",
   "metadata": {},
   "source": [
    "### INTRODUCTION BY EXAMPLE\n",
    "\n",
    "\n",
    "基本例子过一下吧，不然 lightGCN 那个还是看不太懂\n",
    "\n",
    "https://pytorch-geometric.readthedocs.io/en/latest/notes/introduction.html"
   ]
  },
  {
   "cell_type": "markdown",
   "id": "f367aba1",
   "metadata": {},
   "source": [
    "------------------\n",
    "Q: How to fix the \"ImportError: IProgress not found. Please update jupyter and ipywidgets although it is installed\" (每次 import PyG 都会遇到这个问题)\n",
    "\n",
    "A: https://stackoverflow.com/questions/67998191/importerror-iprogress-not-found-please-update-jupyter-and-ipywidgets-although"
   ]
  },
  {
   "cell_type": "code",
   "execution_count": 3,
   "id": "0cf4ce04",
   "metadata": {},
   "outputs": [
    {
     "name": "stdout",
     "output_type": "stream",
     "text": [
      "Enabling notebook extension jupyter-js-widgets/extension...\r\n",
      "      - Validating: \u001b[32mOK\u001b[0m\r\n"
     ]
    }
   ],
   "source": [
    "!jupyter nbextension enable --py widgetsnbextension\n"
   ]
  },
  {
   "cell_type": "code",
   "execution_count": null,
   "id": "9a2726ff",
   "metadata": {},
   "outputs": [],
   "source": [
    "%whos"
   ]
  },
  {
   "cell_type": "code",
   "execution_count": 1,
   "id": "05fe3f68",
   "metadata": {},
   "outputs": [],
   "source": [
    "%%script false --no-raise-error\n",
    "\n",
    "import torch\n",
    "from torch_geometric.data import Data\n",
    "\n",
    "# We show a simple example of an unweighted and undirected graph with three nodes and four edges. \n",
    "# Each node contains exactly one feature\n",
    "\n",
    "# create a 2x4 tensor matrix\n",
    "# Q: 这里好奇怪，要竖着看？ \"construct graph connectivity matrices in COO format\" 这里 COO format 啥意思，好处是啥？\n",
    "# A: the tensor defining the source and target nodes of all edges 所以第一行是 source, 第二行是 target\n",
    "#    4 个 edge 因为是双向的，你看图就只有两个 edge ，但是由于是双向，所以就变成 4 个了\n",
    "edge_index = torch.tensor([[0, 1, 1, 2],\n",
    "                           [1, 0, 2, 1]], dtype=torch.long)\n",
    "\n",
    "# create a 3x1 tensor matrix\n",
    "# this is edge feature??\n",
    "x = torch.tensor([[-1], [0], [1]], dtype=torch.float)\n",
    "\n",
    "data = Data(x=x, \n",
    "            edge_index=edge_index)\n",
    "\n",
    "print(data)"
   ]
  },
  {
   "cell_type": "code",
   "execution_count": 3,
   "id": "89f4d5f7",
   "metadata": {},
   "outputs": [],
   "source": [
    "%%script false --no-raise-error\n",
    "\n",
    "import torch\n",
    "from torch_geometric.data import Data\n",
    "\n",
    "# 这边就是用 edge pair 的写法，看的更清楚一些，然后下面有一个 .t().contiguous() 来转回来到 COO 格式\n",
    "edge_index = torch.tensor([[0, 1],\n",
    "                           [1, 0],\n",
    "                           [1, 2],\n",
    "                           [2, 1]], dtype=torch.long)\n",
    "x = torch.tensor([[-1], [0], [1]], dtype=torch.float)\n",
    "\n",
    "\n",
    "data = Data(x=x, edge_index=edge_index.t().contiguous())\n",
    "\n",
    "print(data)"
   ]
  },
  {
   "cell_type": "code",
   "execution_count": 4,
   "id": "5ad35c37",
   "metadata": {},
   "outputs": [
    {
     "ename": "NameError",
     "evalue": "name 'data' is not defined",
     "output_type": "error",
     "traceback": [
      "\u001b[0;31m---------------------------------------------------------------------------\u001b[0m",
      "\u001b[0;31mNameError\u001b[0m                                 Traceback (most recent call last)",
      "\u001b[0;32m/var/folders/cv/sr64_lv93tn9y_hb2n8z35140000gn/T/ipykernel_27375/17447580.py\u001b[0m in \u001b[0;36m<module>\u001b[0;34m\u001b[0m\n\u001b[1;32m      1\u001b[0m \u001b[0;31m#  会得到 ['edge_index', 'x']， 就是说有哪些 key, 有 edge index 和 x 就是 feature of each node\u001b[0m\u001b[0;34m\u001b[0m\u001b[0;34m\u001b[0m\u001b[0;34m\u001b[0m\u001b[0m\n\u001b[0;32m----> 2\u001b[0;31m \u001b[0mprint\u001b[0m\u001b[0;34m(\u001b[0m\u001b[0mdata\u001b[0m\u001b[0;34m.\u001b[0m\u001b[0mkeys\u001b[0m\u001b[0;34m)\u001b[0m\u001b[0;34m\u001b[0m\u001b[0;34m\u001b[0m\u001b[0m\n\u001b[0m\u001b[1;32m      3\u001b[0m \u001b[0;34m\u001b[0m\u001b[0m\n\u001b[1;32m      4\u001b[0m \u001b[0;31m# 这个就是 print note feature, 会得到下面这个, 因为上面定义的 x 就是 是那个 node 然后每个 node 是一个 value\u001b[0m\u001b[0;34m\u001b[0m\u001b[0;34m\u001b[0m\u001b[0;34m\u001b[0m\u001b[0m\n\u001b[1;32m      5\u001b[0m \u001b[0;31m# tensor([[-1.],\u001b[0m\u001b[0;34m\u001b[0m\u001b[0;34m\u001b[0m\u001b[0;34m\u001b[0m\u001b[0m\n",
      "\u001b[0;31mNameError\u001b[0m: name 'data' is not defined"
     ]
    }
   ],
   "source": [
    "#  会得到 ['edge_index', 'x']， 就是说有哪些 key, 有 edge index 和 x 就是 feature of each node\n",
    "print(data.keys)\n",
    "\n",
    "# 这个就是 print note feature, 会得到下面这个, 因为上面定义的 x 就是 是那个 node 然后每个 node 是一个 value\n",
    "# tensor([[-1.],\n",
    "#         [ 0.],\n",
    "#         [ 1.]])\n",
    "print(data['x'])\n",
    "\n",
    "# 就是打印一下['edge_index', 'x'] 这两个 key\n",
    "for key, item in data:\n",
    "    print(f'{key} => {item}')\n",
    "\n",
    "\n",
    "'edge_attr' in data\n",
    "\n",
    "\n",
    "data.num_nodes\n",
    "\n",
    "\n",
    "data.num_edges\n",
    "\n",
    "\n",
    "data.num_node_features\n",
    "\n",
    "\n",
    "data.has_isolated_nodes()\n",
    "\n",
    "\n",
    "data.has_self_loops()\n",
    "\n",
    "\n",
    "data.is_directed()\n",
    "\n",
    "\n",
    "# Transfer data object to GPU.\n",
    "# device = torch.device('cuda')\n",
    "# data = data.to(device)"
   ]
  },
  {
   "cell_type": "code",
   "execution_count": 8,
   "id": "4a722cfa",
   "metadata": {},
   "outputs": [],
   "source": [
    "# 接下来挺 straightforward 先跳过"
   ]
  },
  {
   "cell_type": "markdown",
   "id": "6823412f",
   "metadata": {},
   "source": [
    "_--------------- My wild quest into scipy: try sparse tensor just to see what it looks like ----_"
   ]
  },
  {
   "cell_type": "code",
   "execution_count": 9,
   "id": "633b94c5",
   "metadata": {},
   "outputs": [],
   "source": [
    "from torch_sparse import SparseTensor, matmul"
   ]
  },
  {
   "cell_type": "code",
   "execution_count": 10,
   "id": "c106b8d6",
   "metadata": {},
   "outputs": [],
   "source": [
    "edge_index = torch.tensor([[0, 1],\n",
    "                           [0, 1]], dtype=torch.long)"
   ]
  },
  {
   "cell_type": "code",
   "execution_count": null,
   "id": "2587110a",
   "metadata": {},
   "outputs": [],
   "source": []
  },
  {
   "cell_type": "code",
   "execution_count": 11,
   "id": "8beaa97c",
   "metadata": {},
   "outputs": [],
   "source": [
    "train_sparse_edge_index = SparseTensor(row=edge_index[0], \n",
    "                                       col=edge_index[1], \n",
    "                                       sparse_sizes=(4, 4))\n"
   ]
  },
  {
   "cell_type": "code",
   "execution_count": 12,
   "id": "cb0ea117",
   "metadata": {},
   "outputs": [
    {
     "name": "stdout",
     "output_type": "stream",
     "text": [
      "SparseTensor(row=tensor([0, 1]),\n",
      "             col=tensor([0, 1]),\n",
      "             size=(4, 4), nnz=2, density=12.50%)\n"
     ]
    }
   ],
   "source": [
    "# 看不出来...\n",
    "# nnz mean number non zero elements\n",
    "print(train_sparse_edge_index)"
   ]
  },
  {
   "cell_type": "code",
   "execution_count": 13,
   "id": "d100261f",
   "metadata": {},
   "outputs": [
    {
     "name": "stdout",
     "output_type": "stream",
     "text": [
      "4\n"
     ]
    }
   ],
   "source": [
    "print(train_sparse_edge_index.size(1))"
   ]
  },
  {
   "cell_type": "code",
   "execution_count": 16,
   "id": "a8f42055",
   "metadata": {},
   "outputs": [
    {
     "name": "stdout",
     "output_type": "stream",
     "text": [
      "SparseTensor(row=tensor([0, 1]),\n",
      "             col=tensor([0, 1]),\n",
      "             size=(4, 4), nnz=2, density=12.50%)\n"
     ]
    }
   ],
   "source": [
    "print(train_sparse_edge_index)"
   ]
  },
  {
   "cell_type": "code",
   "execution_count": 15,
   "id": "70a1354f",
   "metadata": {},
   "outputs": [
    {
     "name": "stderr",
     "output_type": "stream",
     "text": [
      "/opt/anaconda3/envs/pyg/lib/python3.7/site-packages/torch_sparse/storage.py:14: UserWarning: `layout` argument unset, using default layout \"coo\". This may lead to unexpected behaviour.\n",
      "  warnings.warn('`layout` argument unset, using default layout '\n"
     ]
    },
    {
     "data": {
      "text/plain": [
       "scipy.sparse.coo.coo_matrix"
      ]
     },
     "execution_count": 15,
     "metadata": {},
     "output_type": "execute_result"
    }
   ],
   "source": [
    "type(train_sparse_edge_index.to_scipy())"
   ]
  },
  {
   "cell_type": "code",
   "execution_count": 17,
   "id": "afeb8215",
   "metadata": {},
   "outputs": [],
   "source": [
    "spi_edge_index = train_sparse_edge_index.to_scipy()"
   ]
  },
  {
   "cell_type": "code",
   "execution_count": 21,
   "id": "34e491b9",
   "metadata": {},
   "outputs": [
    {
     "data": {
      "text/plain": [
       "matrix([[1., 0., 0., 0.],\n",
       "        [0., 1., 0., 0.],\n",
       "        [0., 0., 0., 0.],\n",
       "        [0., 0., 0., 0.]], dtype=float32)"
      ]
     },
     "execution_count": 21,
     "metadata": {},
     "output_type": "execute_result"
    }
   ],
   "source": [
    "# todense 这个 API 真多挺好用，看着很方便, \n",
    "# https://scipy-lectures.org/advanced/scipy_sparse/coo_matrix.html\n",
    "# 不过这个不像是 adjescent matrix?? 这个是 directional 的 representation 呀, row 是 src/from, col 是 dest/to\n",
    "spi_edge_index.todense()"
   ]
  },
  {
   "cell_type": "code",
   "execution_count": null,
   "id": "7f5116bf",
   "metadata": {},
   "outputs": [],
   "source": [
    "# 试一下 scipy adjescent matrix"
   ]
  },
  {
   "cell_type": "code",
   "execution_count": 30,
   "id": "1817a890",
   "metadata": {},
   "outputs": [
    {
     "name": "stdout",
     "output_type": "stream",
     "text": [
      "(1, array([0, 0, 0], dtype=int32))\n"
     ]
    }
   ],
   "source": [
    "import numpy as np\n",
    "from scipy.sparse.csgraph import connected_components\n",
    "from scipy.sparse import csr_matrix, coo_matrix\n",
    "\n",
    "arr = np.array([\n",
    "  [0, 1, 2],\n",
    "  [1, 0, 0],\n",
    "  [2, 0, 0]\n",
    "])\n",
    "\n",
    "newarr = coo_matrix(arr)\n",
    "\n",
    "print(connected_components(newarr))"
   ]
  },
  {
   "cell_type": "code",
   "execution_count": 31,
   "id": "b4a6e254",
   "metadata": {},
   "outputs": [
    {
     "name": "stdout",
     "output_type": "stream",
     "text": [
      "  (0, 1)\t1\n",
      "  (0, 2)\t2\n",
      "  (1, 0)\t1\n",
      "  (2, 0)\t2\n"
     ]
    }
   ],
   "source": [
    "print(newarr)"
   ]
  },
  {
   "cell_type": "code",
   "execution_count": 25,
   "id": "8758fd16",
   "metadata": {},
   "outputs": [
    {
     "name": "stdout",
     "output_type": "stream",
     "text": [
      "[[0 1 2]\n",
      " [1 0 0]\n",
      " [2 0 0]]\n"
     ]
    }
   ],
   "source": [
    "# 诶，这不是一样的吗？所以 todense 其实就是 print 出 adjescent matrix\n",
    "# adjescent matrix 是有向的\n",
    "print(newarr.todense())"
   ]
  },
  {
   "cell_type": "code",
   "execution_count": 32,
   "id": "668b1e72",
   "metadata": {},
   "outputs": [
    {
     "name": "stdout",
     "output_type": "stream",
     "text": [
      "-1024\n"
     ]
    }
   ],
   "source": [
    "print(-(1 << 10))"
   ]
  },
  {
   "cell_type": "code",
   "execution_count": null,
   "id": "4812e7e4",
   "metadata": {},
   "outputs": [],
   "source": []
  }
 ],
 "metadata": {
  "kernelspec": {
   "display_name": "Python 3 (ipykernel)",
   "language": "python",
   "name": "python3"
  },
  "language_info": {
   "codemirror_mode": {
    "name": "ipython",
    "version": 3
   },
   "file_extension": ".py",
   "mimetype": "text/x-python",
   "name": "python",
   "nbconvert_exporter": "python",
   "pygments_lexer": "ipython3",
   "version": "3.7.13"
  }
 },
 "nbformat": 4,
 "nbformat_minor": 5
}
