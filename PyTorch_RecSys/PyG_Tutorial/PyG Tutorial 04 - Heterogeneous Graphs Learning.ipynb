{
 "cells": [
  {
   "cell_type": "markdown",
   "id": "94ab6e66",
   "metadata": {},
   "source": [
    "### HETEROGENEOUS GRAPH LEARNING\n",
    "\n",
    "\n",
    "https://pytorch-geometric.readthedocs.io/en/latest/notes/heterogeneous.html"
   ]
  },
  {
   "cell_type": "code",
   "execution_count": 5,
   "id": "5fc250cd",
   "metadata": {},
   "outputs": [],
   "source": [
    "from torch_geometric.data import HeteroData\n",
    "\n",
    "data = HeteroData()\n",
    "\n"
   ]
  },
  {
   "cell_type": "code",
   "execution_count": 4,
   "id": "8d6808d7",
   "metadata": {},
   "outputs": [],
   "source": [
    "data['paper'].x = [100, 5] # [num_papers, num_features_paper]\n",
    "data['author'].x = [10, 5] # [num_authors, num_features_author]\n",
    "data['institution'].x = [20, 5] # [num_institutions, num_features_institution]\n",
    "data['field_of_study'].x = [10, 5] # [num_field, num_features_field]\n",
    "\n",
    "data['paper', 'cites', 'paper'].edge_index = [2, 100] # [2, num_edges_cites]\n",
    "data['author', 'writes', 'paper'].edge_index = [2, 100] # [2, num_edges_writes]\n",
    "data['author', 'affiliated_with', 'institution'].edge_index = [2, 100] # [2, num_edges_affiliated]\n",
    "data['paper', 'has_topic', 'field_of_study'].edge_index = [2, 100] # [2, num_edges_topic]\n",
    "\n",
    "data['paper', 'cites', 'paper'].edge_attr = [10, 10] # [num_edges_cites, num_features_cites]\n",
    "data['author', 'writes', 'paper'].edge_attr = [10, 10] # [num_edges_writes, num_features_writes]\n",
    "data['author', 'affiliated_with', 'institution'].edge_attr = [10, 10] # [num_edges_affiliated, num_features_affiliated]\n",
    "data['paper', 'has_topic', 'field_of_study'].edge_attr = [10, 10] # [num_edges_topic, num_features_topic]\n"
   ]
  },
  {
   "cell_type": "code",
   "execution_count": 6,
   "id": "22fd41bc",
   "metadata": {},
   "outputs": [],
   "source": [
    "# 然后我看 light GCN MovieLens 那个例子，并没有用 HeteorData\n",
    "# https://colab.research.google.com/drive/1VfP6JlWbX_AJnx88yN1tM3BYE6XAADiy?usp=sharing\n",
    "\n",
    "# 那就先不管了， Skip"
   ]
  },
  {
   "cell_type": "code",
   "execution_count": null,
   "id": "f208dc67",
   "metadata": {},
   "outputs": [],
   "source": []
  }
 ],
 "metadata": {
  "kernelspec": {
   "display_name": "Python 3 (ipykernel)",
   "language": "python",
   "name": "python3"
  },
  "language_info": {
   "codemirror_mode": {
    "name": "ipython",
    "version": 3
   },
   "file_extension": ".py",
   "mimetype": "text/x-python",
   "name": "python",
   "nbconvert_exporter": "python",
   "pygments_lexer": "ipython3",
   "version": "3.7.13"
  }
 },
 "nbformat": 4,
 "nbformat_minor": 5
}
