{
 "cells": [
  {
   "cell_type": "markdown",
   "id": "7dd2d890",
   "metadata": {},
   "source": [
    "### PyG Tutorial 03 - Creating Your Own Datasets\n",
    "\n",
    "https://pytorch-geometric.readthedocs.io/en/latest/notes/create_dataset.html"
   ]
  },
  {
   "cell_type": "code",
   "execution_count": null,
   "id": "accf496f",
   "metadata": {},
   "outputs": [],
   "source": [
    "# 这个过完，感觉差不多就可以开始回去看 lightGCN 了"
   ]
  },
  {
   "cell_type": "code",
   "execution_count": 7,
   "id": "50cc39bf",
   "metadata": {},
   "outputs": [],
   "source": [
    "import torch\n",
    "from torch_geometric.data import Dataset, download_url"
   ]
  },
  {
   "cell_type": "code",
   "execution_count": 8,
   "id": "71a98dea",
   "metadata": {},
   "outputs": [],
   "source": [
    "DATA_PATH = \"https://files.grouplens.org/datasets/movielens/ml-1m.zip\""
   ]
  },
  {
   "cell_type": "code",
   "execution_count": 9,
   "id": "65edae50",
   "metadata": {},
   "outputs": [],
   "source": [
    "# Creating “Larger” Datasets\n",
    "class MyOwnDataset(Dataset):\n",
    "    def __init__(self, root, transform=None, pre_transform=None, pre_filter=None):\n",
    "        super().__init__(root, transform, pre_transform, pre_filter)\n",
    "\n",
    "    @property\n",
    "    def raw_file_names(self):\n",
    "        return \"ml-1m.zip\"\n",
    "\n",
    "    @property\n",
    "    def processed_file_names(self):\n",
    "        return ['data.pt']\n",
    "\n",
    "    def download(self):\n",
    "        # Download to `self.raw_dir`.\n",
    "        download_url(DATA_PATH, self.raw_dir)\n",
    "\n",
    "    def process(self):\n",
    "        idx = 0\n",
    "        for raw_path in self.raw_paths:\n",
    "            # Read data from `raw_path`.\n",
    "            # 这个 data 就是这里的这个https://pytorch-geometric.readthedocs.io/en/latest/notes/introduction.html#data-handling-of-graphs\n",
    "            # data = Data(x=x, edge_index=edge_index)\n",
    "            # 就是你得把 data 的 feature 和 edge_index 给 parse 出来\n",
    "            data = Data(...)\n",
    "\n",
    "            if self.pre_filter is not None and not self.pre_filter(data):\n",
    "                continue\n",
    "\n",
    "            if self.pre_transform is not None:\n",
    "                data = self.pre_transform(data)\n",
    "\n",
    "            torch.save(data, osp.join(self.processed_dir, f'data_{idx}.pt'))\n",
    "            idx += 1\n",
    "\n",
    "    def len(self):\n",
    "        return len(self.processed_file_names)\n",
    "\n",
    "    def get(self, idx):\n",
    "        data = torch.load(osp.join(self.processed_dir, f'data_{idx}.pt'))\n",
    "        return data"
   ]
  },
  {
   "cell_type": "code",
   "execution_count": null,
   "id": "0716a5c0",
   "metadata": {},
   "outputs": [],
   "source": [
    "# TODO: 这里讲的好不清晰呀，参考这个这个到时候练一下吧;\n",
    "# https://www.youtube.com/watch?v=QLIkOtKS4os"
   ]
  }
 ],
 "metadata": {
  "kernelspec": {
   "display_name": "Python 3 (ipykernel)",
   "language": "python",
   "name": "python3"
  },
  "language_info": {
   "codemirror_mode": {
    "name": "ipython",
    "version": 3
   },
   "file_extension": ".py",
   "mimetype": "text/x-python",
   "name": "python",
   "nbconvert_exporter": "python",
   "pygments_lexer": "ipython3",
   "version": "3.7.13"
  }
 },
 "nbformat": 4,
 "nbformat_minor": 5
}
