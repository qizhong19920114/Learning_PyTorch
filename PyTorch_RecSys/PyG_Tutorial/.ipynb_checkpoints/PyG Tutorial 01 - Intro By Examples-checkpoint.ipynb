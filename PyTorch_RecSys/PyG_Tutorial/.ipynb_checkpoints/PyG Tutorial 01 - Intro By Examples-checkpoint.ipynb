{
 "cells": [
  {
   "cell_type": "markdown",
   "id": "a0548757",
   "metadata": {},
   "source": [
    "### INTRODUCTION BY EXAMPLE\n",
    "\n",
    "\n",
    "基本例子过一下吧，不然 lightGCN 那个还是看不太懂\n",
    "\n",
    "https://pytorch-geometric.readthedocs.io/en/latest/notes/introduction.html"
   ]
  },
  {
   "cell_type": "markdown",
   "id": "f367aba1",
   "metadata": {},
   "source": [
    "------------------\n",
    "Q: How to fix the \"ImportError: IProgress not found. Please update jupyter and ipywidgets although it is installed\" (每次 import PyG 都会遇到这个问题)\n",
    "\n",
    "A: https://stackoverflow.com/questions/67998191/importerror-iprogress-not-found-please-update-jupyter-and-ipywidgets-although"
   ]
  },
  {
   "cell_type": "code",
   "execution_count": 3,
   "id": "0cf4ce04",
   "metadata": {},
   "outputs": [
    {
     "name": "stdout",
     "output_type": "stream",
     "text": [
      "Enabling notebook extension jupyter-js-widgets/extension...\r\n",
      "      - Validating: \u001b[32mOK\u001b[0m\r\n"
     ]
    }
   ],
   "source": [
    "!jupyter nbextension enable --py widgetsnbextension\n"
   ]
  },
  {
   "cell_type": "code",
   "execution_count": null,
   "id": "9a2726ff",
   "metadata": {},
   "outputs": [],
   "source": [
    "%whos"
   ]
  },
  {
   "cell_type": "code",
   "execution_count": 2,
   "id": "05fe3f68",
   "metadata": {},
   "outputs": [
    {
     "name": "stdout",
     "output_type": "stream",
     "text": [
      "Data(x=[3, 1], edge_index=[2, 4])\n"
     ]
    }
   ],
   "source": [
    "import torch\n",
    "from torch_geometric.data import Data\n",
    "\n",
    "# We show a simple example of an unweighted and undirected graph with three nodes and four edges. \n",
    "# Each node contains exactly one feature\n",
    "\n",
    "# create a 2x4 tensor matrix\n",
    "# Q: 这里好奇怪，要竖着看？ \"construct graph connectivity matrices in COO format\" 这里 COO format 啥意思，好处是啥？\n",
    "# A: the tensor defining the source and target nodes of all edges 所以第一行是 source, 第二行是 target\n",
    "#    4 个 edge 因为是双向的，你看图就只有两个 edge ，但是由于是双向，所以就变成 4 个了\n",
    "edge_index = torch.tensor([[0, 1, 1, 2],\n",
    "                           [1, 0, 2, 1]], dtype=torch.long)\n",
    "\n",
    "# create a 3x1 tensor matrix\n",
    "# this is edge feature??\n",
    "x = torch.tensor([[-1], [0], [1]], dtype=torch.float)\n",
    "\n",
    "data = Data(x=x, \n",
    "            edge_index=edge_index)\n",
    "\n",
    "print(data)"
   ]
  },
  {
   "cell_type": "code",
   "execution_count": 3,
   "id": "89f4d5f7",
   "metadata": {},
   "outputs": [
    {
     "name": "stdout",
     "output_type": "stream",
     "text": [
      "Data(x=[3, 1], edge_index=[2, 4])\n"
     ]
    }
   ],
   "source": [
    "import torch\n",
    "from torch_geometric.data import Data\n",
    "\n",
    "# 这边就是用 edge pair 的写法，看的更清楚一些，然后下面有一个 .t().contiguous() 来转回来到 COO 格式\n",
    "edge_index = torch.tensor([[0, 1],\n",
    "                           [1, 0],\n",
    "                           [1, 2],\n",
    "                           [2, 1]], dtype=torch.long)\n",
    "x = torch.tensor([[-1], [0], [1]], dtype=torch.float)\n",
    "\n",
    "\n",
    "data = Data(x=x, edge_index=edge_index.t().contiguous())\n",
    "\n",
    "print(data)"
   ]
  },
  {
   "cell_type": "code",
   "execution_count": 7,
   "id": "5ad35c37",
   "metadata": {},
   "outputs": [
    {
     "name": "stdout",
     "output_type": "stream",
     "text": [
      "['edge_index', 'x']\n",
      "tensor([[-1.],\n",
      "        [ 0.],\n",
      "        [ 1.]])\n",
      "x => tensor([[-1.],\n",
      "        [ 0.],\n",
      "        [ 1.]])\n",
      "edge_index => tensor([[0, 1, 1, 2],\n",
      "        [1, 0, 2, 1]])\n"
     ]
    },
    {
     "data": {
      "text/plain": [
       "False"
      ]
     },
     "execution_count": 7,
     "metadata": {},
     "output_type": "execute_result"
    }
   ],
   "source": [
    "#  会得到 ['edge_index', 'x']， 就是说有哪些 key, 有 edge index 和 x 就是 feature of each node\n",
    "print(data.keys)\n",
    "\n",
    "# 这个就是 print note feature, 会得到下面这个, 因为上面定义的 x 就是 是那个 node 然后每个 node 是一个 value\n",
    "# tensor([[-1.],\n",
    "#         [ 0.],\n",
    "#         [ 1.]])\n",
    "print(data['x'])\n",
    "\n",
    "# 就是打印一下['edge_index', 'x'] 这两个 key\n",
    "for key, item in data:\n",
    "    print(f'{key} => {item}')\n",
    "\n",
    "\n",
    "'edge_attr' in data\n",
    "\n",
    "\n",
    "data.num_nodes\n",
    "\n",
    "\n",
    "data.num_edges\n",
    "\n",
    "\n",
    "data.num_node_features\n",
    "\n",
    "\n",
    "data.has_isolated_nodes()\n",
    "\n",
    "\n",
    "data.has_self_loops()\n",
    "\n",
    "\n",
    "data.is_directed()\n",
    "\n",
    "\n",
    "# Transfer data object to GPU.\n",
    "# device = torch.device('cuda')\n",
    "# data = data.to(device)"
   ]
  },
  {
   "cell_type": "code",
   "execution_count": 8,
   "id": "4a722cfa",
   "metadata": {},
   "outputs": [],
   "source": [
    "# 接下来挺 straightforward 先跳过"
   ]
  },
  {
   "cell_type": "code",
   "execution_count": null,
   "id": "62ffa735",
   "metadata": {},
   "outputs": [],
   "source": []
  }
 ],
 "metadata": {
  "kernelspec": {
   "display_name": "Python 3 (ipykernel)",
   "language": "python",
   "name": "python3"
  },
  "language_info": {
   "codemirror_mode": {
    "name": "ipython",
    "version": 3
   },
   "file_extension": ".py",
   "mimetype": "text/x-python",
   "name": "python",
   "nbconvert_exporter": "python",
   "pygments_lexer": "ipython3",
   "version": "3.7.13"
  }
 },
 "nbformat": 4,
 "nbformat_minor": 5
}
