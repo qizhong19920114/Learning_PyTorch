{
 "cells": [
  {
   "cell_type": "code",
   "execution_count": 29,
   "id": "5b87d9a4",
   "metadata": {},
   "outputs": [],
   "source": [
    "# import required modules\n",
    "import random\n",
    "from tqdm.notebook import tqdm\n",
    "import pandas as pd\n",
    "import numpy as np\n",
    "import matplotlib.pyplot as plt\n",
    "from sklearn.model_selection import train_test_split\n",
    "from sklearn import model_selection, metrics, preprocessing\n",
    "import copy\n",
    "from torch_geometric.utils import degree\n",
    "\n",
    "import torch\n",
    "from torch import nn, optim, Tensor\n",
    "\n",
    "from torch_sparse import SparseTensor, matmul\n",
    "\n",
    "from torch_geometric.utils import structured_negative_sampling\n",
    "from torch_geometric.data import download_url, extract_zip\n",
    "from torch_geometric.nn.conv.gcn_conv import gcn_norm\n",
    "from torch_geometric.nn.conv import MessagePassing\n",
    "from torch_geometric.typing import Adj\n",
    "\n",
    "from scipy import sparse"
   ]
  },
  {
   "cell_type": "code",
   "execution_count": null,
   "id": "0f74dae7",
   "metadata": {},
   "outputs": [],
   "source": [
    "'''\n",
    "Let's look at the following 3 x 4 interaction matrix \n",
    "      items    i1   i2   i3   i4\n",
    "users     u1    0    0    1   1\n",
    "          u2    1    0    1   0\n",
    "          u3    0    1    0   0\n",
    "          \n",
    "        \n",
    "'''"
   ]
  },
  {
   "cell_type": "code",
   "execution_count": 30,
   "id": "87693815",
   "metadata": {},
   "outputs": [
    {
     "name": "stdout",
     "output_type": "stream",
     "text": [
      "[[0 0 1 1]\n",
      " [1 0 1 0]\n",
      " [0 1 0 0]]\n"
     ]
    }
   ],
   "source": [
    "# torch.from_numpy\n",
    "# r_mat here is the interaction matrix above\n",
    "r_mat = np.array([[0, 0, 1, 1], \n",
    "                  [1, 0, 1, 0], \n",
    "                  [0, 1, 0, 0]])\n",
    "print(r_mat)"
   ]
  },
  {
   "cell_type": "code",
   "execution_count": 31,
   "id": "7e97d6df",
   "metadata": {},
   "outputs": [
    {
     "name": "stdout",
     "output_type": "stream",
     "text": [
      "  (0, 2)\t1\n",
      "  (0, 3)\t1\n",
      "  (1, 0)\t1\n",
      "  (1, 2)\t1\n",
      "  (2, 1)\t1\n"
     ]
    }
   ],
   "source": [
    "r_mat_np_coo = sparse.coo_matrix(r_mat)\n",
    "print(r_mat_np_coo)"
   ]
  },
  {
   "cell_type": "code",
   "execution_count": 32,
   "id": "7fddcbf9",
   "metadata": {},
   "outputs": [
    {
     "name": "stdout",
     "output_type": "stream",
     "text": [
      "[0 0 1 1 2]\n",
      "[2 3 0 2 1]\n"
     ]
    }
   ],
   "source": [
    "# edge_index is just [row, col] from COO format\n",
    "r_mat_edge_index =  [r_mat_np_coo.row, r_mat_np_coo.col] \n",
    "\n",
    "print(r_mat_edge_index[0])\n",
    "print(r_mat_edge_index[1])"
   ]
  },
  {
   "cell_type": "code",
   "execution_count": 33,
   "id": "17b46ae2",
   "metadata": {},
   "outputs": [
    {
     "name": "stdout",
     "output_type": "stream",
     "text": [
      "[[0 0 1 1]\n",
      " [1 0 1 0]\n",
      " [0 1 0 0]]\n"
     ]
    }
   ],
   "source": [
    "print(r_mat_np_coo.todense())"
   ]
  },
  {
   "cell_type": "markdown",
   "id": "3aa95636",
   "metadata": {},
   "source": [
    "# You can also do the same with Pytorch "
   ]
  },
  {
   "cell_type": "code",
   "execution_count": 34,
   "id": "190f352e",
   "metadata": {},
   "outputs": [
    {
     "data": {
      "text/plain": [
       "tensor([[0, 0, 1, 1, 2],\n",
       "        [2, 3, 0, 2, 1]])"
      ]
     },
     "execution_count": 34,
     "metadata": {},
     "output_type": "execute_result"
    }
   ],
   "source": [
    "r_mat_edge_index = torch.LongTensor(np.array(r_mat_edge_index))\n",
    "r_mat_edge_index"
   ]
  },
  {
   "cell_type": "code",
   "execution_count": 35,
   "id": "0c2d56f7",
   "metadata": {},
   "outputs": [
    {
     "name": "stdout",
     "output_type": "stream",
     "text": [
      "SparseTensor(row=tensor([0, 0, 1, 1, 2]),\n",
      "             col=tensor([2, 3, 0, 2, 1]),\n",
      "             size=(3, 4), nnz=5, density=41.67%)\n"
     ]
    }
   ],
   "source": [
    "sparse_r_mat_edge_index = SparseTensor(row=r_mat_edge_index[0], \n",
    "                                           col=r_mat_edge_index[1], \n",
    "                                           sparse_sizes=(3, 4))\n",
    "\n",
    "print(sparse_r_mat_edge_index)"
   ]
  },
  {
   "cell_type": "code",
   "execution_count": 36,
   "id": "3c4463e1",
   "metadata": {},
   "outputs": [
    {
     "name": "stdout",
     "output_type": "stream",
     "text": [
      "tensor([[0., 0., 1., 1.],\n",
      "        [1., 0., 1., 0.],\n",
      "        [0., 1., 0., 0.]])\n"
     ]
    }
   ],
   "source": [
    "print(sparse_r_mat_edge_index.to_dense())"
   ]
  },
  {
   "cell_type": "code",
   "execution_count": null,
   "id": "249287ce",
   "metadata": {},
   "outputs": [],
   "source": []
  },
  {
   "cell_type": "code",
   "execution_count": null,
   "id": "518b561f",
   "metadata": {},
   "outputs": [],
   "source": [
    "'''\n",
    "In bipartite graph, interaction matrix is not the same as adjacency matrix, because adjacency matrix\n",
    "expecteds row index and col index to refer to the same node\n",
    "\n",
    "perform the conversion between interaction matrix (r_mat) and adjacency matrix (adj_mat)\n",
    "    ( 0    R )\n",
    "A = ( R_T  0 )\n",
    "\n",
    "so if dimension of R is  n_user x n_item\n",
    "then dimension of A is (n_user+n_item) x (n_user+n_item)\n",
    "\n",
    "'''"
   ]
  },
  {
   "cell_type": "code",
   "execution_count": null,
   "id": "139e7374",
   "metadata": {},
   "outputs": [],
   "source": [
    "def convert_r_mat_edge_index_to_adj_mat_edge_index(input_edge_index, row_size, col_size):\n",
    "    R = torch.zeros((row_size, col_size))\n",
    "    \n",
    "    # convert sparse coo forat to dense format to get R\n",
    "    for i in range(len(input_edge_index[0])):\n",
    "        row_idx = input_edge_index[0][i]\n",
    "        col_idx = input_edge_index[1][i]\n",
    "        R[row_idx][col_idx] = 1\n",
    "\n",
    "    # perform the  r_mat to adj_mat conversion   \n",
    "    R_transpose = torch.transpose(R, 0, 1)\n",
    "    adj_mat = torch.zeros((row_size + col_size , row_size + col_size))\n",
    "    adj_mat[: row_size, row_size :] = R.clone()\n",
    "    adj_mat[row_size :, : row_size] = R_transpose.clone()\n",
    "    \n",
    "    # convert from dense format back to sparse coo format so we can get the edge_index of adj_mat\n",
    "    adj_mat_coo = adj_mat.to_sparse_coo()\n",
    "    adj_mat_coo = adj_mat_coo.indices()\n",
    "    return adj_mat_coo"
   ]
  },
  {
   "cell_type": "code",
   "execution_count": null,
   "id": "7e4ea406",
   "metadata": {},
   "outputs": [],
   "source": [
    "def convert_adj_mat_edge_index_to_r_mat_edge_index(input_edge_index, row_size, col_size):\n",
    "    # create a sparse tensor so we can easily do the to_dense conversion and get a sub matrix to \n",
    "    # get R (interaction matrix) and then convert it back to sparse coo format\n",
    "    sparse_input_edge_index = SparseTensor(row=input_edge_index[0], \n",
    "                                           col=input_edge_index[1], \n",
    "                                           sparse_sizes=((row_size + col_size), row_size + col_size))\n",
    "    adj_mat = sparse_input_edge_index.to_dense()\n",
    "    interact_mat = adj_mat[: row_size, row_size :]\n",
    "    r_mat_edge_index = interact_mat.to_sparse_coo().indices()\n",
    "    return r_mat_edge_index"
   ]
  },
  {
   "cell_type": "code",
   "execution_count": null,
   "id": "5cb80f89",
   "metadata": {},
   "outputs": [],
   "source": []
  },
  {
   "cell_type": "code",
   "execution_count": 37,
   "id": "a7d6f6c0",
   "metadata": {},
   "outputs": [
    {
     "name": "stdout",
     "output_type": "stream",
     "text": [
      "tensor([[0, 0, 1, 1, 2, 3, 4, 5, 5, 6],\n",
      "        [5, 6, 3, 5, 4, 1, 2, 0, 1, 0]])\n"
     ]
    }
   ],
   "source": [
    "adj_mat_edge_index = convert_r_mat_edge_index_to_adj_mat_edge_index(r_mat_edge_index, row_size=3, col_size=4)\n",
    "print(adj_mat_edge_index)"
   ]
  },
  {
   "cell_type": "code",
   "execution_count": 38,
   "id": "83ca4150",
   "metadata": {},
   "outputs": [
    {
     "name": "stdout",
     "output_type": "stream",
     "text": [
      "tensor([[0., 0., 0., 0., 0., 1., 1.],\n",
      "        [0., 0., 0., 1., 0., 1., 0.],\n",
      "        [0., 0., 0., 0., 1., 0., 0.],\n",
      "        [0., 1., 0., 0., 0., 0., 0.],\n",
      "        [0., 0., 1., 0., 0., 0., 0.],\n",
      "        [1., 1., 0., 0., 0., 0., 0.],\n",
      "        [1., 0., 0., 0., 0., 0., 0.]])\n"
     ]
    }
   ],
   "source": [
    "adj_mat = SparseTensor(row=adj_mat_edge_index[0], \n",
    "                                       col=adj_mat_edge_index[1], \n",
    "                                       sparse_sizes=(3+4, 4+3))\n",
    "\n",
    "print(adj_mat.to_dense())"
   ]
  },
  {
   "cell_type": "code",
   "execution_count": 39,
   "id": "14141a60",
   "metadata": {},
   "outputs": [
    {
     "name": "stdout",
     "output_type": "stream",
     "text": [
      "tensor([[0., 0., 1., 1.],\n",
      "        [1., 0., 1., 0.],\n",
      "        [0., 1., 0., 0.]])\n"
     ]
    }
   ],
   "source": [
    "converted_back_to_r_mat_edge_index = convert_adj_mat_edge_index_to_r_mat_edge_index(adj_mat_edge_index, 3, 4)\n",
    "\n",
    "converted_back_to_r_mat = SparseTensor(row=converted_back_to_r_mat_edge_index[0], \n",
    "                                       col=converted_back_to_r_mat_edge_index[1], \n",
    "                                       sparse_sizes=(3, 4))\n",
    "\n",
    "print(converted_back_to_r_mat.to_dense())"
   ]
  },
  {
   "cell_type": "code",
   "execution_count": null,
   "id": "a335b143",
   "metadata": {},
   "outputs": [],
   "source": []
  },
  {
   "cell_type": "code",
   "execution_count": null,
   "id": "1252a89d",
   "metadata": {},
   "outputs": [],
   "source": []
  }
 ],
 "metadata": {
  "kernelspec": {
   "display_name": "Python 3 (ipykernel)",
   "language": "python",
   "name": "python3"
  },
  "language_info": {
   "codemirror_mode": {
    "name": "ipython",
    "version": 3
   },
   "file_extension": ".py",
   "mimetype": "text/x-python",
   "name": "python",
   "nbconvert_exporter": "python",
   "pygments_lexer": "ipython3",
   "version": "3.7.13"
  }
 },
 "nbformat": 4,
 "nbformat_minor": 5
}
