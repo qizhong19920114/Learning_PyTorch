{
 "cells": [
  {
   "cell_type": "markdown",
   "id": "be5fe71a",
   "metadata": {},
   "source": [
    "另外一个 LightGCN MovieLens 的 [notebook] (http://localhost:8888/notebooks/PyTorch_RecSys/LightGCN_for_Movie_Rec%20/LightGCN%20for%20Movie%20Recommendation%20by%20Quinn%20Wang.ipynb) 看的实在是太 struggle 了，而且 recall 非常低，肯定是哪里没写对，我一步步 debug ，不如先看一下这个，我突然找到这个也是 Stanford 224W 的，也是 LightGCN， 也是 Movie Lens\n",
    "\n",
    "- Blog: https://medium.com/stanford-cs224w/lightgcn-with-pytorch-geometric-91bab836471e\n",
    "- Code: https://colab.research.google.com/drive/1KKugoFyUdydYC0XRyddcROzfQdMwDcnO?usp=sharing\n",
    "\n",
    "\n",
    "突然发现这个内容好像似曾相识啊.. 难道我很早以前就看过?"
   ]
  },
  {
   "cell_type": "code",
   "execution_count": null,
   "id": "9e91562b",
   "metadata": {},
   "outputs": [],
   "source": []
  },
  {
   "cell_type": "markdown",
   "id": "44c8c2fc",
   "metadata": {},
   "source": [
    "Update:\n",
    "\n",
    "    - 还是 model 得用 threshold = 1 然后 eval 的时候 therhold = 3.5， 不然我等于edge_Index filter by trheshold 之后，变成是只给 所有 relevant item 的集合让 model 来从中选来推荐，当然 reall 会非常高 (recall_at_k 0.84509, precision_at_k 0.91002)。 so instead, I want to give model all the edges including the rating = 1 edges and let model learn because we are giving the labels with ratings. \n",
    "          - result: [Iteration 9400/10000], train_loss: 0.85635, val_loss: 0.85697,  recall_at_k 0.19081, precision_at_k 0.29305\n",
    "          \n",
    "    - 试一下， 用 layer 小一点 比如 1? （倒是 train 快了很多)。 \n",
    "        - result: [Iteration 9800/10000], train_loss: 0.77699, val_loss: 0.80771,  recall_at_k 0.22017, precision_at_k 0.3126。 for test set: recall_at_k 0.20615, precision_at_k 0.29663\n",
    "\n",
    "\n"
   ]
  },
  {
   "cell_type": "markdown",
   "id": "8abbed94",
   "metadata": {},
   "source": [
    "# Imports"
   ]
  },
  {
   "cell_type": "code",
   "execution_count": 1,
   "id": "06db3c8e",
   "metadata": {},
   "outputs": [],
   "source": [
    "# import required modules\n",
    "import random\n",
    "from tqdm.notebook import tqdm\n",
    "import pandas as pd\n",
    "import numpy as np\n",
    "import matplotlib.pyplot as plt\n",
    "from sklearn.model_selection import train_test_split\n",
    "from sklearn import model_selection, metrics, preprocessing\n",
    "import copy\n",
    "\n",
    "import torch\n",
    "from torch import nn, optim, Tensor\n",
    "\n",
    "from torch_sparse import SparseTensor, matmul\n",
    "\n",
    "from collections import defaultdict\n",
    "\n",
    "from torch_geometric.utils import structured_negative_sampling\n",
    "from torch_geometric.data import download_url, extract_zip\n",
    "from torch_geometric.nn.conv.gcn_conv import gcn_norm\n",
    "from torch_geometric.nn.conv import MessagePassing\n",
    "from torch_geometric.typing import Adj\n",
    "import torch.nn.functional as F"
   ]
  },
  {
   "cell_type": "markdown",
   "id": "9c42e300",
   "metadata": {},
   "source": [
    "# Load Dataset"
   ]
  },
  {
   "cell_type": "code",
   "execution_count": 2,
   "id": "53a38ace",
   "metadata": {},
   "outputs": [
    {
     "name": "stderr",
     "output_type": "stream",
     "text": [
      "Using existing file ml-latest-small.zip\n",
      "Extracting ./ml-latest-small.zip\n"
     ]
    }
   ],
   "source": [
    "# download the dataset\n",
    "# Small: 100,000 ratings and 3,600 tag applications applied to 9,000 movies by 600 users. Last updated 9/2018\n",
    "url = 'https://files.grouplens.org/datasets/movielens/ml-latest-small.zip'\n",
    "extract_zip(download_url(url, '.'), '.')\n",
    "\n",
    "movie_path = './ml-latest-small/movies.csv'\n",
    "rating_path = './ml-latest-small/ratings.csv'\n",
    "user_path = './ml-latest-small/users.csv'"
   ]
  },
  {
   "cell_type": "code",
   "execution_count": 3,
   "id": "dcc01c7c",
   "metadata": {},
   "outputs": [],
   "source": [
    "rating_df = pd.read_csv(rating_path)\n",
    "\n",
    "lbl_user = preprocessing.LabelEncoder()\n",
    "lbl_movie = preprocessing.LabelEncoder()\n",
    "\n",
    "rating_df.userId = lbl_user.fit_transform(rating_df.userId.values)\n",
    "rating_df.movieId = lbl_movie.fit_transform(rating_df.movieId.values)"
   ]
  },
  {
   "cell_type": "code",
   "execution_count": 4,
   "id": "335a8286",
   "metadata": {},
   "outputs": [
    {
     "name": "stdout",
     "output_type": "stream",
     "text": [
      "609\n",
      "9723\n"
     ]
    }
   ],
   "source": [
    "print(rating_df.userId.max())\n",
    "print(rating_df.movieId.max())"
   ]
  },
  {
   "cell_type": "code",
   "execution_count": null,
   "id": "776f60d0",
   "metadata": {},
   "outputs": [],
   "source": []
  },
  {
   "cell_type": "code",
   "execution_count": null,
   "id": "878f9437",
   "metadata": {},
   "outputs": [],
   "source": []
  },
  {
   "cell_type": "code",
   "execution_count": 5,
   "id": "07f9b0ee",
   "metadata": {},
   "outputs": [],
   "source": [
    "# ------ new -----\n",
    "# load edges between users and movies\n",
    "def load_edge_csv(df, \n",
    "                  src_index_col, \n",
    "                  dst_index_col,  \n",
    "                  link_index_col, \n",
    "                  rating_threshold=3.5):\n",
    "    \"\"\"Loads csv containing edges between users and items\n",
    "\n",
    "    Args:\n",
    "        path (str): path to csv file\n",
    "        src_index_col (str): column name of users\n",
    "        src_mapping (dict): mapping between row number and user id\n",
    "        dst_index_col (str): column name of items\n",
    "        dst_mapping (dict): mapping between row number and item id\n",
    "        link_index_col (str): column name of user item interaction\n",
    "        rating_threshold (int, optional): Threshold to determine positivity of edge. Defaults to 4.\n",
    "\n",
    "    Returns:\n",
    "        torch.Tensor: 2 by N matrix containing the node ids of N user-item edges\n",
    "    \"\"\"\n",
    "    \n",
    "    edge_index = None\n",
    "    src = [user_id for user_id in  df['userId']]\n",
    "    \n",
    "    num_users = len(df['userId'].unique())\n",
    "    \n",
    "    # dst 全部 offset by num_users ，因为是 bipartite graph\n",
    "#     dst = [(movie_id + num_users) for movie_id in df['movieId']]\n",
    "    # 改回来\n",
    "    dst = [(movie_id) for movie_id in df['movieId']]\n",
    "    \n",
    "    link_vals = df[link_index_col].values\n",
    "\n",
    "    edge_attr = torch.from_numpy(df[link_index_col].values).view(-1, 1).to(torch.long) >= rating_threshold\n",
    "    # edge_values = torch.from_numpy(df[link_index_col].values).view(-1, 1)\n",
    "\n",
    "    edge_values = []\n",
    "\n",
    "    # 这里就是把 上面的 src list (user), dst list (item), edge_attr(boolean), 转成 PyG Edge_index 需要的COO 格式\n",
    "    edge_index = [[], []]\n",
    "    for i in range(edge_attr.shape[0]):\n",
    "        if edge_attr[i]:\n",
    "            edge_index[0].append(src[i])\n",
    "            edge_index[1].append(dst[i])\n",
    "            edge_values.append(link_vals[i])\n",
    "\n",
    "    return edge_index, edge_values\n",
    "\n",
    "\n",
    "\n",
    "\n",
    "# 这里 print 出来之后，直接就是 COO 格式了!! 即 2 x num_edge_pair. 就是 pyG tutorial 的第一个tutorial 里面的\n"
   ]
  },
  {
   "cell_type": "code",
   "execution_count": 6,
   "id": "938a5feb",
   "metadata": {},
   "outputs": [],
   "source": [
    "\n",
    "edge_index, edge_values = load_edge_csv(\n",
    "    rating_df,\n",
    "    src_index_col='userId',\n",
    "    dst_index_col='movieId',\n",
    "    link_index_col='rating',\n",
    "#     rating_threshold=1, # 这里用 1 因为 lightGCN 假设只要 有 interaction 就算\n",
    "#     rating_threshold=3, # 改成 3 试一下\n",
    "#     rating_threshold=3.5, # 改成 3.5 试一下, 理论上应该是 recall 会升的更快？因为 true relevant item 基数小了呀\n",
    "    rating_threshold=1 # 还是得改为 1 因为不然你的 test and val set 就都完全没有给 irrelevant item 推荐了， 所以 recall 奇高\n",
    ")"
   ]
  },
  {
   "cell_type": "code",
   "execution_count": 7,
   "id": "98409e8c",
   "metadata": {},
   "outputs": [
    {
     "name": "stdout",
     "output_type": "stream",
     "text": [
      "tensor([[   0,    0,    0,  ...,  609,  609,  609],\n",
      "        [   0,    2,    5,  ..., 9444, 9445, 9485]])\n",
      "torch.Size([2, 99466])\n",
      "tensor([4., 4., 4.,  ..., 5., 5., 3.], dtype=torch.float64)\n",
      "torch.Size([99466])\n"
     ]
    }
   ],
   "source": [
    "edge_index = torch.LongTensor(edge_index) # 如果不是 SparseTensor， 那么.propagate 需要 longTensor\n",
    "edge_values = torch.tensor(edge_values)\n",
    "\n",
    "print(edge_index)\n",
    "print(edge_index.size())\n",
    "\n",
    "print(edge_values)\n",
    "print(edge_values.size())"
   ]
  },
  {
   "cell_type": "code",
   "execution_count": null,
   "id": "03837b3b",
   "metadata": {},
   "outputs": [],
   "source": []
  },
  {
   "cell_type": "code",
   "execution_count": null,
   "id": "e6be3b1a",
   "metadata": {},
   "outputs": [],
   "source": []
  },
  {
   "cell_type": "code",
   "execution_count": 8,
   "id": "cd2b5afa",
   "metadata": {},
   "outputs": [
    {
     "name": "stdout",
     "output_type": "stream",
     "text": [
      "num_users 610, num_movies 9724\n"
     ]
    }
   ],
   "source": [
    "# split the edges of the graph using a 80/10/10 train/validation/test split\n",
    "# num_users, num_movies = len(user_mapping), len(movie_mapping)\n",
    "\n",
    "num_users = len(rating_df['userId'].unique())\n",
    "num_movies = len(rating_df['movieId'].unique())\n",
    "\n",
    "print(f\"num_users {num_users}, num_movies {num_movies}\")"
   ]
  },
  {
   "cell_type": "code",
   "execution_count": 9,
   "id": "5573dbc4",
   "metadata": {},
   "outputs": [],
   "source": [
    "# 这个其实做的是 convert_r_mat_edge_index_to_adj_mat_edge_index\n",
    "def convert_bipartate_edge_index_to_edge_index(input_edge_index, input_edge_values):\n",
    "    R = torch.zeros((num_users, num_movies))\n",
    "    for i in range(len(input_edge_index[0])):\n",
    "        row_idx = input_edge_index[0][i]\n",
    "        col_idx = input_edge_index[1][i]\n",
    "#         R[row_idx][col_idx] = 1\n",
    "        R[row_idx][col_idx] = input_edge_values[i]\n",
    "\n",
    "    R_transpose = torch.transpose(R, 0, 1)\n",
    "    \n",
    "    # create empty adj_matrix\n",
    "    adj_mat = torch.zeros((num_users + num_movies , num_users + num_movies))\n",
    "    # 这边严格按照 lightGCN formulat 6 来建 bipartite 的 adj graph\n",
    "    adj_mat[: num_users, num_users :] = R.clone()\n",
    "    adj_mat[num_users :, : num_users] = R_transpose.clone()\n",
    "    \n",
    "    # 从 COO 拿 values\n",
    "    adj_mat_coo = adj_mat.to_sparse_coo()\n",
    "    adj_mat_coo_indices = adj_mat_coo.indices()\n",
    "    adj_mat_coo_values = adj_mat_coo.values()\n",
    "    return adj_mat_coo_indices, adj_mat_coo_values"
   ]
  },
  {
   "cell_type": "code",
   "execution_count": 10,
   "id": "83dc5fd2",
   "metadata": {},
   "outputs": [
    {
     "name": "stdout",
     "output_type": "stream",
     "text": [
      "num_users 610, num_movies 9724, num_interactions 99466\n"
     ]
    }
   ],
   "source": [
    "# 这里其实是算的  threshold filter 之后的 \n",
    "num_interactions = edge_index.shape[1]\n",
    "print(f\"num_users {num_users}, num_movies {num_movies}, num_interactions {num_interactions}\")\n"
   ]
  },
  {
   "cell_type": "code",
   "execution_count": 11,
   "id": "c59e3f35",
   "metadata": {},
   "outputs": [],
   "source": [
    "all_indices = [i for i in range(num_interactions)]\n",
    "\n",
    "train_indices, test_indices = train_test_split(all_indices, \n",
    "                                               test_size=0.2, \n",
    "                                               random_state=1)\n",
    "\n",
    "# 诶，原来 validation 是从test set 里面再 split 出来，我一直以为是从给training set\n",
    "val_indices, test_indices = train_test_split(test_indices, \n",
    "                                             test_size=0.5, \n",
    "                                             random_state=1)"
   ]
  },
  {
   "cell_type": "code",
   "execution_count": 12,
   "id": "ee13fb68",
   "metadata": {},
   "outputs": [],
   "source": [
    "# 这里就是拿到 edge pair index 其实还是 tensor, \n",
    "# 所以这里其实就是 把 edge_index 拆成 training set, validation set, test set... \n",
    "train_edge_index = edge_index[:, train_indices]\n",
    "train_edge_value = edge_values[train_indices]\n",
    "\n",
    "val_edge_index = edge_index[:, val_indices]\n",
    "val_edge_value = edge_values[val_indices]\n",
    "\n",
    "test_edge_index = edge_index[:, test_indices]\n",
    "test_edge_value = edge_values[test_indices]"
   ]
  },
  {
   "cell_type": "code",
   "execution_count": 13,
   "id": "ae8d9dd1",
   "metadata": {},
   "outputs": [
    {
     "name": "stdout",
     "output_type": "stream",
     "text": [
      "train_edge_index tensor([[ 239,  102,  225,  ...,   34,  488,  609],\n",
      "        [ 274, 9006,  792,  ...,  260, 1486, 3867]])\n",
      "10334\n",
      "torch.Size([610])\n",
      "torch.Size([9628])\n",
      "tensor(0)\n",
      "tensor(9723)\n",
      "tensor(9723)\n",
      "tensor([4.5000, 3.5000, 3.5000,  ..., 3.5000, 5.0000, 1.0000],\n",
      "       dtype=torch.float64)\n",
      "torch.Size([9947])\n"
     ]
    }
   ],
   "source": [
    "print(f\"train_edge_index {train_edge_index}\")\n",
    "print((num_users + num_movies))\n",
    "print(torch.unique(edge_index[0]).size())\n",
    "print(torch.unique(edge_index[1]).size())\n",
    "print(train_edge_index.min())\n",
    "print(train_edge_index.max())\n",
    "print(edge_index.max())\n",
    "\n",
    "print(test_edge_value)\n",
    "print(test_edge_value.size())"
   ]
  },
  {
   "cell_type": "code",
   "execution_count": 14,
   "id": "853bf141",
   "metadata": {},
   "outputs": [],
   "source": [
    "# 这里得把上面的转成 bipartite\n",
    "# 那我的edge values 咋办?, 也一同穿进去\n",
    "train_edge_index, train_edge_values  = convert_bipartate_edge_index_to_edge_index(train_edge_index, train_edge_value)\n",
    "val_edge_index, val_edge_values = convert_bipartate_edge_index_to_edge_index(val_edge_index, val_edge_value)\n",
    "test_edge_index, test_edge_values = convert_bipartate_edge_index_to_edge_index(test_edge_index, test_edge_value)"
   ]
  },
  {
   "cell_type": "code",
   "execution_count": 15,
   "id": "a4e13290",
   "metadata": {},
   "outputs": [
    {
     "name": "stdout",
     "output_type": "stream",
     "text": [
      "tensor([[    0,     0,     0,  ..., 10331, 10332, 10333],\n",
      "        [  610,   615,   653,  ...,   183,   183,   330]])\n",
      "torch.Size([2, 159144])\n",
      "tensor([[    0,     0,     0,  ..., 10312, 10316, 10327],\n",
      "        [  612,   699,   924,  ...,   247,    49,   183]])\n",
      "torch.Size([2, 19894])\n",
      "tensor([[    0,     0,     0,  ..., 10302, 10307, 10310],\n",
      "        [  656,   734,   746,  ...,   513,   211,   337]])\n",
      "torch.Size([2, 19894])\n",
      "\n",
      " train_edge_values: \n",
      " tensor([4.0000, 4.0000, 5.0000,  ..., 3.5000, 3.5000, 4.0000]) \n",
      " torch.Size([159144])\n",
      "\n",
      " val_edge_values: \n",
      " tensor([4.0000, 5.0000, 4.0000,  ..., 3.5000, 3.5000, 4.0000]) \n",
      " torch.Size([19894])\n",
      "\n",
      " test_edge_values: \n",
      " tensor([5.0000, 5.0000, 5.0000,  ..., 3.0000, 4.5000, 2.5000]) \n",
      " torch.Size([19894])\n"
     ]
    }
   ],
   "source": [
    "print(train_edge_index)\n",
    "print(train_edge_index.size())\n",
    "print(val_edge_index)\n",
    "print(val_edge_index.size())\n",
    "print(test_edge_index)\n",
    "print(test_edge_index.size())\n",
    "\n",
    "print(f\"\\n train_edge_values: \\n {train_edge_values} \\n {train_edge_values.size()}\")\n",
    "print(f\"\\n val_edge_values: \\n {val_edge_values} \\n {val_edge_values.size()}\")\n",
    "print(f\"\\n test_edge_values: \\n {test_edge_values} \\n {test_edge_values.size()}\")"
   ]
  },
  {
   "cell_type": "code",
   "execution_count": null,
   "id": "f7355fab",
   "metadata": {},
   "outputs": [],
   "source": []
  },
  {
   "cell_type": "code",
   "execution_count": null,
   "id": "2926634a",
   "metadata": {},
   "outputs": [],
   "source": []
  },
  {
   "cell_type": "markdown",
   "id": "eaab5b0e",
   "metadata": {},
   "source": [
    "# Implementing LightGCN\n",
    "\n",
    "## Light Graph Convolution\n",
    "Between each layer, LightGCN uses the following propagation rule for user and item embeddings.\n",
    "\n",
    "\\begin{equation}\n",
    "e_u^{(k+1)} = \\sum_{i \\in N_u} \\frac{1}{\\sqrt{|N_u|}\\sqrt{|N_i|}} e_i^{(k)} \\quad e_i^{(k+1)} = \\sum_{u \\in N_i} \\frac{1}{\\sqrt{|N_i|}\\sqrt{|N_u|}} e_u^{(k)}\n",
    "\\end{equation}\n",
    "\n",
    "$N_u$: the set of all neighbors of user $u$ (items liked by $u$)\n",
    "\n",
    "$N_i$: the set of all neighbors of item $i$ (users who liked $i$)\n",
    "\n",
    "$e_u^{(k)}$ : k-th layer user embedding\n",
    "\n",
    "$e_i^{(k)}$ : k-th layer item embedding\n",
    "\n",
    "\n",
    "\n",
    "## Layer Combination and Model Prediction\n",
    "The only trainable parameters of LightGCN are the 0-th layer embeddings $e_u^{(0)}$ and $e_i^{(0)}$ for each user and item. We combine the embeddings obtained at each layer of propagation to form the final embeddings for all user and item, $e_u$ and $e_i$ via the follwing equation.\n",
    "\n",
    "\n",
    "\\begin{equation}\n",
    "e_u = \\sum_{k = 0}^K \\alpha_k e_u^{(k)} \\quad e_i = \\sum_{k = 0}^K \\alpha_k e_i^{(k)}\n",
    "\\end{equation}\n",
    "\n",
    "$\\alpha_k$ : hyperparameter which weights the contribution of the k-th layer embedding to the final embedding\n",
    "\n",
    "The model prediction is obtained by taking the inner product of the final user and item embeddings.\n",
    "\n",
    "\\begin{equation}\n",
    "\\hat{y}_{ui} = e_u^Te_i\n",
    "\\end{equation}\n",
    "\n",
    "## Matrix Form\n",
    "In our implementation, we utilize the matrix form of LightGCN. We perform multi-scale diffusion to obtain the final embedding, which sums embeddings diffused across multi-hop scales. \n",
    "\n",
    "\\begin{equation}\n",
    "E^{(K)} = \\alpha_0 E^{(0)} + \\alpha_1 \\tilde{A}^1 E^{(0)} + \\alpha_2 \\tilde{A}^2 E^{(0)} + \\cdot \\cdot \\cdot + \\alpha_K \\tilde{A}^K \\tilde{A} E^{(0)}\n",
    "\\end{equation}\n",
    "\n",
    "$E^{(0)} \\in \\mathcal{R}^{(M + N)} \\times T$ : stacked initial item and user embeddings where $M$, $N$, and $T$ denote the number of users, number of items, and the dimension of each embedding respectively\n",
    "\n",
    "$\\tilde{A} = D^{-\\frac{1}{2}}AD^{-\\frac{1}{2}}$ : symmetrically normalized adjacency matrix\n",
    "\n",
    "\n",
    "\n",
    "__TODO__: 上面这个有点没看懂，得查一下\n",
    "- https://math.stackexchange.com/questions/3035968/interpretation-of-symmetric-normalised-graph-adjacency-matrix\n",
    "- [拉普拉斯矩阵(Laplacian Matrix) 及半正定性证明](https://www.cnblogs.com/shiyublog/p/9785342.html)\n",
    "- 我大概知道了，按陈学长跟我讲的去复习一下，然后先把 RMSE 的方法弄一下，然后回头再看下面这几个资料\n",
    "    - [SEMI-SUPERVISED CLASSIFICATION WITH GRAPH CONVOLUTIONAL NETWORKS](https://arxiv.org/pdf/1609.02907.pdf%EF%BC%89)\n",
    "    - [LightGCN: Simplifying and Powering Graph Convolution Network for Recommendation](https://arxiv.org/pdf/2002.02126.pdf) 尤其 formula 7\n",
    "    - https://en.m.wikipedia.org/wiki/Laplacian_matrix\n",
    "    - PyG GCN Norm Doc [link](https://pytorch-geometric.readthedocs.io/en/latest/modules/transforms.html#torch_geometric.transforms.GCNNorm), [source code](https://pytorch-geometric.readthedocs.io/en/latest/_modules/torch_geometric/transforms/gcn_norm.html#GCNNorm)\n",
    "    - PyG 的 LG_CONV (单层的) Light GCN [link](https://pytorch-geometric.readthedocs.io/en/latest/_modules/torch_geometric/nn/conv/lg_conv.html#LGConv)\n",
    "    - PyG 的Light GCN 整个 network [link](https://pytorch-geometric.readthedocs.io/en/latest/_modules/torch_geometric/nn/models/lightgcn.html)\n",
    "    - Normalized Adjacency and Laplacian Matrices Cornell Slides [link](https://people.orie.cornell.edu/dpw/orie6334/Fall2016/lecture7.pdf)\n",
    "    - [SO]Interpretation of Symmetric Normalised Graph Adjacency Matrix [link](https://math.stackexchange.com/questions/3035968/interpretation-of-symmetric-normalised-graph-adjacency-matrix)\n",
    "- 这个有几个问题，一个是 bipartate graph 的 Adj Matrix 他是不是没有设置好，\n",
    "- \n"
   ]
  },
  {
   "cell_type": "code",
   "execution_count": null,
   "id": "6e8bdc1b",
   "metadata": {},
   "outputs": [],
   "source": []
  },
  {
   "cell_type": "code",
   "execution_count": 16,
   "id": "9e07d93a",
   "metadata": {},
   "outputs": [],
   "source": [
    "# defines LightGCN model\n",
    "class LightGCN(MessagePassing):\n",
    "    \"\"\"LightGCN Model as proposed in https://arxiv.org/abs/2002.02126\n",
    "    \"\"\"\n",
    "\n",
    "    def __init__(self, num_users, num_items, embedding_dim=64, K=3, add_self_loops=False, dropout_rate=0.1):\n",
    "        \"\"\"Initializes LightGCN Model\n",
    "\n",
    "        Args:\n",
    "            num_users (int): Number of users\n",
    "            num_items (int): Number of items\n",
    "            embedding_dim (int, optional): Dimensionality of embeddings. Defaults to 8.\n",
    "            K (int, optional): Number of message passing layers. Defaults to 3.\n",
    "            add_self_loops (bool, optional): Whether to add self loops for message passing. Defaults to False.\n",
    "        \"\"\"\n",
    "        super().__init__()\n",
    "        self.dropout_rate = dropout_rate\n",
    "        self.num_users = num_users\n",
    "        self.num_items = num_items\n",
    "        self.embedding_dim = embedding_dim\n",
    "        self.K = K\n",
    "        self.add_self_loops = add_self_loops\n",
    "\n",
    "        # 这边 embedding 就参考 我的 Basic NCF 的那个 notebook \n",
    "        self.users_emb = nn.Embedding(num_embeddings=self.num_users, \n",
    "                                      embedding_dim=self.embedding_dim) # e_u^0\n",
    "        \n",
    "        self.items_emb = nn.Embedding(num_embeddings=self.num_items, \n",
    "                                      embedding_dim=self.embedding_dim) # e_i^0\n",
    "\n",
    "        # 这啥？哦就是 上面两 embedding 的 initialization 方法， 当然，也可以把 feature 放进来作为初始 embeding\n",
    "        # \"Fills the input Tensor with values drawn from the normal distribution\"\n",
    "        nn.init.normal_(self.users_emb.weight, std=0.1)\n",
    "        nn.init.normal_(self.items_emb.weight, std=0.1)\n",
    "        # 128 因为我直接 两个 64 len 的 embedding concat\n",
    "        self.out = nn.Linear(128, 1)\n",
    "\n",
    "    def forward(self, edge_index: Tensor):\n",
    "        \"\"\"Forward propagation of LightGCN Model.\n",
    "\n",
    "        Args:\n",
    "            edge_index (SparseTensor): adjacency matrix\n",
    "\n",
    "        Returns:\n",
    "            tuple (Tensor): e_u_k, e_u_0, e_i_k, e_i_0\n",
    "        \"\"\"\n",
    "        # compute \\tilde{A}: symmetrically normalized adjacency matrix\n",
    "        # TODO: 这个是啥骚操作? 这边得仔细看一下!!! (上面我有做笔记了.)\n",
    "        # 这里 print 出来之后，长度可能跟 edge_index 不一样了，因为有加 selfloop， 到时候可以验证一下\n",
    "        edge_index_norm = gcn_norm(edge_index=edge_index, \n",
    "                                   add_self_loops=self.add_self_loops)\n",
    "\n",
    "        # 直接 user, item embedding concat 然后套一曾，然后 rename??\n",
    "        emb_0 = torch.cat([self.users_emb.weight, self.items_emb.weight]) # E^0\n",
    "        # 哦，不是套一层，而是因为 lightGCN 最后从 多跟 emb_k 算出 emb 是直接加， 所以这里建一个 list\n",
    "        # 你看后面 propagate 多层 LightGCN layer 的时候，一方面 propagate， 一方面每一层我都 append 到 embs 这个list\n",
    "        embs = [emb_0]\n",
    "        emb_k = emb_0\n",
    "\n",
    "        # multi-scale diffusion\n",
    "        # 这个跟你用几层 LightGCn 有关，一层，你都 \n",
    "        # 注意这里，咱们是用 emb_k 作为 node  的 feature 了!!!  \n",
    "        # TODO: 可以思考一下这里要加真正的 node feature 怎么加？直接 concat? 补进去?\n",
    "        for i in range(self.K):\n",
    "            # 他着跟这里讲的不太一样呀？“For bipartite graphs with two independent sets of nodes and indices, and each set holding its own information, this split can be marked by passing the information as a tuple, e.g. x=(x_N, x_M)”\n",
    "            # https://pytorch-geometric.readthedocs.io/en/latest/notes/create_gnn.html?highlight=bipartate#the-messagepassing-base-class\n",
    "            # emb_k = self.propagate(edge_index_norm, x=emb_k)\n",
    "            emb_k = self.propagate(edge_index=edge_index_norm[0], x=emb_k, norm=edge_index_norm[1])\n",
    "            embs.append(emb_k)\n",
    "\n",
    "        # 这个到时候可以看一下 dim=1 的 stack 长啥样\n",
    "        # 可以参考这个 https://www.geeksforgeeks.org/python-pytorch-stack-method/\n",
    "        # 就是比如 [[1,2,3,4], [5,6,7,8]]\n",
    "        # stack 完变成[ [1,5], [2,6],[3, 7], [4, 8] ]\n",
    "        embs = torch.stack(embs, dim=1)\n",
    "        \n",
    "        # 然后这边就是把上面 stack 完的求均值\n",
    "        # Q: ?? lightGCN 是求均值吗? 不是应该是 weighted sum?? 不过 sum or avg 应该都不影响结果\n",
    "        # A: 看 paper 里面， 公式里的 a 其实是 1/(K+1) 那本质上就是 avg 了\n",
    "        emb_final = torch.mean(embs, dim=1) # E^K\n",
    "\n",
    "        # 这个比较 straightforward, 我们上面 embedding 不是用 concat 把 user_emb 和 item_emb 给\n",
    "        # horizontal 连起来吗， 这里跑完 LightGCN layer 之后，我们就可以在 split 拆开左右两边，拿到各种的 embedding\n",
    "        # 那其实跟 NCF 还是蛮像的.\n",
    "        users_emb_final, items_emb_final = torch.split(emb_final, \n",
    "                                                       [self.num_users, self.num_items]) # splits into e_u^K and e_i^K\n",
    "\n",
    "        \n",
    "        row, col =  edge_index[0], edge_index[1]\n",
    "        \n",
    "        user_embeds = emb_final[row]\n",
    "        movie_embeds = emb_final[col]\n",
    "        \n",
    "        output = torch.cat([user_embeds, movie_embeds], dim=1)\n",
    "        \n",
    "        # self.training is inherited from nn.Module\n",
    "        # let's remove the dropout to see if it will learn faster\n",
    "        # output = F.dropout(output, self.dropout_rate, self.training)\n",
    "        \n",
    "        output = self.out(output)\n",
    "        \n",
    "        return output\n",
    "    \n",
    "    def message(self, x_j, norm):\n",
    "        return norm.view(-1, 1) * x_j\n",
    "\n",
    "# layers = 3    \n",
    "layers = 1 # 试一下 1 是提高还是下降? \n",
    "model = LightGCN(num_users=num_users, \n",
    "                 num_items=num_movies, \n",
    "                 K=layers)"
   ]
  },
  {
   "cell_type": "markdown",
   "id": "6fbe8541",
   "metadata": {},
   "source": [
    "# Evaluation Metrics\n",
    "\n",
    "We evalaluate our model using the following metrics\n",
    "\n",
    "\\begin{equation}\n",
    "\\text{Recall} = \\frac{TP}{TP + FP}\n",
    "\\end{equation}\n",
    "\n",
    "\\begin{equation}\n",
    "\\text{Precision} = \\frac{TP}{TP + FN}\n",
    "\\end{equation}\n",
    "\n",
    "**Dicounted Cumulative Gain (DCG)** at rank position p is defined as:\n",
    "\n",
    "\\begin{equation}\n",
    "\\text{DCG}_\\text{p} = \\sum_{i = 1}^p \\frac{2^{rel_i} - 1}{\\log_2{(i + 1)}}\n",
    "\\end{equation}\n",
    "\n",
    "p: a particular rank position\n",
    "\n",
    "$rel_i \\in \\{0, 1\\}$ : graded relevance of the result at position $i$\n",
    "\n",
    "**Idealised Dicounted Cumulative Gain (IDCG)**, namely the maximum possible DCG, at rank position $p$ is defined as:\n",
    "\n",
    "\\begin{equation}\n",
    "\\text{IDCG}_\\text{p} = \\sum_{i = 1}^{|REL_p|} \\frac{2^{rel_i} - 1}{\\log_2{(i + 1)}}\n",
    "\\end{equation}\n",
    "\n",
    "$|REL_p|$ : list of items ordered by their relevance up to position p\n",
    "\n",
    "**Normalized Dicounted Cumulative Gain (NDCG)** at rank position $p$ is defined as:\n",
    "\n",
    "\\begin{equation}\n",
    "\\text{nDCG}_\\text{p} = \\frac{\\text{DCG}_p}{\\text{nDCG}_p}\n",
    "\\end{equation}\n",
    "\n",
    "Specifically, we use the metrics recall@K, precision@K, and NDCG@K. @K indicates that these metrics are computed on the top K recommendations."
   ]
  },
  {
   "cell_type": "code",
   "execution_count": null,
   "id": "d87f45f0",
   "metadata": {},
   "outputs": [],
   "source": []
  },
  {
   "cell_type": "markdown",
   "id": "0f5989fc",
   "metadata": {},
   "source": [
    "# Training\n",
    "\n",
    "Your test set performance should be in line with the following (*K=20*):\n",
    "\n",
    "*Recall@K: 0.13, Precision@K: 0.045, NDCG@K: 0.10*"
   ]
  },
  {
   "cell_type": "code",
   "execution_count": 17,
   "id": "4c8a59f8",
   "metadata": {},
   "outputs": [],
   "source": [
    "# define contants\n",
    "ITERATIONS = 10000\n",
    "EPOCHS = 10\n",
    "# ITERATIONS = 20\n",
    "BATCH_SIZE = 1024\n",
    "# 我觉得下面写的有点问题，不然我每个 batch 都是全部数据吧?\n",
    "# BATCH_SIZE = len(train_edge_index[0])\n",
    "\n",
    "LR = 1e-3\n",
    "ITERS_PER_EVAL = 200\n",
    "ITERS_PER_LR_DECAY = 200\n",
    "# K = 10\n",
    "# K = 10 是不是太多了?? 这个会导致 layer oversmooth? 不过好像没有用这个 K? 哦，不是，这个是 eval metric的 K \n",
    "K = 10\n",
    "LAMBDA = 1e-6\n",
    "# LAMBDA = 1/2"
   ]
  },
  {
   "cell_type": "code",
   "execution_count": 18,
   "id": "1470e6a7",
   "metadata": {},
   "outputs": [
    {
     "name": "stdout",
     "output_type": "stream",
     "text": [
      "BATCH_SIZE 1024\n"
     ]
    }
   ],
   "source": [
    "print(f\"BATCH_SIZE {BATCH_SIZE}\")"
   ]
  },
  {
   "cell_type": "code",
   "execution_count": 19,
   "id": "ec3aee9d",
   "metadata": {},
   "outputs": [
    {
     "name": "stdout",
     "output_type": "stream",
     "text": [
      "Using device cpu.\n"
     ]
    }
   ],
   "source": [
    "# setup\n",
    "device = torch.device('cuda' if torch.cuda.is_available() else 'cpu')\n",
    "print(f\"Using device {device}.\")\n",
    "\n",
    "\n",
    "model = model.to(device)\n",
    "model.train()\n",
    "\n",
    "# add decay to avoid overfit\n",
    "optimizer = optim.Adam(model.parameters(), lr=LR, weight_decay=0.01)\n",
    "# optimizer = optim.Adam(model.parameters(), lr=LR)\n",
    "scheduler = optim.lr_scheduler.ExponentialLR(optimizer, gamma=0.95)\n",
    "\n",
    "edge_index = edge_index.to(device)\n",
    "train_edge_index = train_edge_index.to(device)\n",
    "# train_sparse_edge_index = train_sparse_edge_index.to(device)\n",
    "\n",
    "val_edge_index = val_edge_index.to(device)\n",
    "# val_sparse_edge_index = val_sparse_edge_index.to(device)\n",
    "\n",
    "loss_func = nn.MSELoss()"
   ]
  },
  {
   "cell_type": "code",
   "execution_count": null,
   "id": "ce5aa2f5",
   "metadata": {},
   "outputs": [],
   "source": []
  },
  {
   "cell_type": "code",
   "execution_count": 20,
   "id": "38817a54",
   "metadata": {},
   "outputs": [],
   "source": [
    " def get_recall_at_k(input_edge_index, input_edge_values, pred_ratings, k=10, threshold=3.5):\n",
    "    with torch.no_grad():\n",
    "        user_item_rating_list = defaultdict(list)\n",
    "\n",
    "        for i in range(len(input_edge_index[0])):\n",
    "            src = input_edge_index[0][i].item()\n",
    "            dest = input_edge_index[1][i].item()\n",
    "            true_rating = input_edge_values[i].item()\n",
    "            pred_rating = pred_ratings[i].item()\n",
    "\n",
    "            user_item_rating_list[src].append((pred_rating, true_rating))\n",
    "\n",
    "        recalls = dict()\n",
    "        precisions = dict()\n",
    "\n",
    "        for user_id, user_ratings in user_item_rating_list.items():\n",
    "            user_ratings.sort(key=lambda x: x[0], reverse=True)\n",
    "\n",
    "            n_rel = sum((true_r >= threshold) for (_, true_r) in user_ratings)\n",
    "\n",
    "            n_rec_k = sum((est >= threshold) for (est, _) in user_ratings[:k])\n",
    "            \n",
    "            n_rel_and_rec_k = sum(\n",
    "                ((true_r >= threshold) and (est >= threshold))\n",
    "                for (est, true_r) in user_ratings[:k]\n",
    "            )\n",
    "\n",
    "            precisions[user_id] = n_rel_and_rec_k / n_rec_k if n_rec_k != 0 else 0\n",
    "            recalls[user_id] = n_rel_and_rec_k / n_rel if n_rel != 0 else 0\n",
    "\n",
    "        overall_recall = sum(rec for rec in recalls.values()) / len(recalls)\n",
    "        overall_precision = sum(prec for prec in precisions.values()) / len(precisions)\n",
    "\n",
    "        return overall_recall, overall_precision\n",
    "    "
   ]
  },
  {
   "cell_type": "code",
   "execution_count": 21,
   "id": "53d7b752",
   "metadata": {},
   "outputs": [
    {
     "data": {
      "application/vnd.jupyter.widget-view+json": {
       "model_id": "f9b5c893d40e405cbd9d33384de8ed16",
       "version_major": 2,
       "version_minor": 0
      },
      "text/plain": [
       "  0%|          | 0/10000 [00:00<?, ?it/s]"
      ]
     },
     "metadata": {},
     "output_type": "display_data"
    },
    {
     "name": "stdout",
     "output_type": "stream",
     "text": [
      "[Iteration 0/10000], train_loss: 13.55275, val_loss: 13.53169,  recall_at_k 0.0, precision_at_k 0.0\n",
      "[Iteration 200/10000], train_loss: 2.3853, val_loss: 2.49956,  recall_at_k 0.00793, precision_at_k 0.04536\n",
      "[Iteration 400/10000], train_loss: 1.55158, val_loss: 1.62412,  recall_at_k 0.04222, precision_at_k 0.12383\n",
      "[Iteration 600/10000], train_loss: 1.31031, val_loss: 1.37528,  recall_at_k 0.06264, precision_at_k 0.15467\n",
      "[Iteration 800/10000], train_loss: 1.18693, val_loss: 1.24781,  recall_at_k 0.08145, precision_at_k 0.17704\n",
      "[Iteration 1000/10000], train_loss: 1.10896, val_loss: 1.16722,  recall_at_k 0.09557, precision_at_k 0.19228\n",
      "[Iteration 1200/10000], train_loss: 1.0541, val_loss: 1.11059,  recall_at_k 0.10593, precision_at_k 0.20337\n",
      "[Iteration 1400/10000], train_loss: 1.0129, val_loss: 1.06814,  recall_at_k 0.11566, precision_at_k 0.21407\n",
      "[Iteration 1600/10000], train_loss: 0.98058, val_loss: 1.03487,  recall_at_k 0.12336, precision_at_k 0.22008\n",
      "[Iteration 1800/10000], train_loss: 0.95439, val_loss: 1.00792,  recall_at_k 0.13186, precision_at_k 0.22694\n",
      "[Iteration 2000/10000], train_loss: 0.93266, val_loss: 0.98552,  recall_at_k 0.13828, precision_at_k 0.23302\n",
      "[Iteration 2200/10000], train_loss: 0.9143, val_loss: 0.96656,  recall_at_k 0.14259, precision_at_k 0.2371\n",
      "[Iteration 2400/10000], train_loss: 0.89856, val_loss: 0.9502,  recall_at_k 0.1469, precision_at_k 0.24051\n",
      "[Iteration 2600/10000], train_loss: 0.88491, val_loss: 0.93596,  recall_at_k 0.15195, precision_at_k 0.24504\n",
      "[Iteration 2800/10000], train_loss: 0.87297, val_loss: 0.92339,  recall_at_k 0.15779, precision_at_k 0.2491\n",
      "[Iteration 3000/10000], train_loss: 0.86243, val_loss: 0.91223,  recall_at_k 0.16143, precision_at_k 0.25243\n",
      "[Iteration 3200/10000], train_loss: 0.8531, val_loss: 0.90224,  recall_at_k 0.16396, precision_at_k 0.25464\n",
      "[Iteration 3400/10000], train_loss: 0.8448, val_loss: 0.89325,  recall_at_k 0.16797, precision_at_k 0.25894\n",
      "[Iteration 3600/10000], train_loss: 0.83739, val_loss: 0.88513,  recall_at_k 0.17188, precision_at_k 0.2633\n",
      "[Iteration 3800/10000], train_loss: 0.83076, val_loss: 0.87777,  recall_at_k 0.17522, precision_at_k 0.26703\n",
      "[Iteration 4000/10000], train_loss: 0.82483, val_loss: 0.87108,  recall_at_k 0.17777, precision_at_k 0.26983\n",
      "[Iteration 4200/10000], train_loss: 0.8195, val_loss: 0.86503,  recall_at_k 0.18073, precision_at_k 0.2721\n",
      "[Iteration 4400/10000], train_loss: 0.81471, val_loss: 0.85954,  recall_at_k 0.18472, precision_at_k 0.27604\n",
      "[Iteration 4600/10000], train_loss: 0.8105, val_loss: 0.85444,  recall_at_k 0.18702, precision_at_k 0.27853\n",
      "[Iteration 4800/10000], train_loss: 0.80669, val_loss: 0.84986,  recall_at_k 0.19046, precision_at_k 0.28178\n",
      "[Iteration 5000/10000], train_loss: 0.80326, val_loss: 0.84574,  recall_at_k 0.1929, precision_at_k 0.28423\n",
      "[Iteration 5200/10000], train_loss: 0.80028, val_loss: 0.84192,  recall_at_k 0.19489, precision_at_k 0.28659\n",
      "[Iteration 5400/10000], train_loss: 0.79759, val_loss: 0.83849,  recall_at_k 0.1959, precision_at_k 0.28718\n",
      "[Iteration 5600/10000], train_loss: 0.79521, val_loss: 0.83539,  recall_at_k 0.19839, precision_at_k 0.28964\n",
      "[Iteration 5800/10000], train_loss: 0.7931, val_loss: 0.83257,  recall_at_k 0.20042, precision_at_k 0.29154\n",
      "[Iteration 6000/10000], train_loss: 0.79123, val_loss: 0.83003,  recall_at_k 0.20213, precision_at_k 0.29311\n",
      "[Iteration 6200/10000], train_loss: 0.78959, val_loss: 0.82771,  recall_at_k 0.20452, precision_at_k 0.29643\n",
      "[Iteration 6400/10000], train_loss: 0.78812, val_loss: 0.82562,  recall_at_k 0.20581, precision_at_k 0.29871\n",
      "[Iteration 6600/10000], train_loss: 0.78684, val_loss: 0.82372,  recall_at_k 0.20652, precision_at_k 0.29868\n",
      "[Iteration 6800/10000], train_loss: 0.78569, val_loss: 0.822,  recall_at_k 0.2077, precision_at_k 0.29977\n",
      "[Iteration 7000/10000], train_loss: 0.78467, val_loss: 0.82043,  recall_at_k 0.20864, precision_at_k 0.30032\n",
      "[Iteration 7200/10000], train_loss: 0.78376, val_loss: 0.81898,  recall_at_k 0.21009, precision_at_k 0.30191\n",
      "[Iteration 7400/10000], train_loss: 0.78293, val_loss: 0.81768,  recall_at_k 0.21133, precision_at_k 0.30387\n",
      "[Iteration 7600/10000], train_loss: 0.78218, val_loss: 0.81648,  recall_at_k 0.21221, precision_at_k 0.30403\n",
      "[Iteration 7800/10000], train_loss: 0.78151, val_loss: 0.81536,  recall_at_k 0.21311, precision_at_k 0.30516\n",
      "[Iteration 8000/10000], train_loss: 0.78089, val_loss: 0.81433,  recall_at_k 0.21392, precision_at_k 0.30657\n",
      "[Iteration 8200/10000], train_loss: 0.78032, val_loss: 0.81338,  recall_at_k 0.21484, precision_at_k 0.30788\n",
      "[Iteration 8400/10000], train_loss: 0.7798, val_loss: 0.8125,  recall_at_k 0.21563, precision_at_k 0.30891\n",
      "[Iteration 8600/10000], train_loss: 0.77931, val_loss: 0.81168,  recall_at_k 0.21652, precision_at_k 0.31005\n",
      "[Iteration 8800/10000], train_loss: 0.77886, val_loss: 0.8109,  recall_at_k 0.21649, precision_at_k 0.30988\n",
      "[Iteration 9000/10000], train_loss: 0.77844, val_loss: 0.81018,  recall_at_k 0.21714, precision_at_k 0.31062\n",
      "[Iteration 9200/10000], train_loss: 0.77804, val_loss: 0.8095,  recall_at_k 0.2183, precision_at_k 0.31168\n",
      "[Iteration 9400/10000], train_loss: 0.77767, val_loss: 0.80887,  recall_at_k 0.21872, precision_at_k 0.3117\n",
      "[Iteration 9600/10000], train_loss: 0.77728, val_loss: 0.8083,  recall_at_k 0.21921, precision_at_k 0.31218\n",
      "[Iteration 9800/10000], train_loss: 0.77699, val_loss: 0.80771,  recall_at_k 0.22017, precision_at_k 0.3126\n"
     ]
    }
   ],
   "source": [
    "# training loop\n",
    "train_losses = []\n",
    "val_losses = []\n",
    "val_recall_at_ks = []\n",
    "\n",
    "for iter in tqdm(range(ITERATIONS)):\n",
    "    # forward propagation\n",
    "\n",
    "    pred_ratings = model.forward(train_edge_index)\n",
    "\n",
    "    train_loss = loss_func(pred_ratings, train_edge_values.view(-1,1))    \n",
    "#     print(f\"train_loss {train_loss}\")\n",
    "        \n",
    "    optimizer.zero_grad()\n",
    "    train_loss.backward()\n",
    "    optimizer.step()\n",
    "\n",
    "    # 这里就是过 validation set\n",
    "    if iter % ITERS_PER_EVAL == 0:\n",
    "        model.eval()\n",
    "\n",
    "        with torch.no_grad():\n",
    "            val_pred_ratings = model.forward(val_edge_index)\n",
    "            \n",
    "            val_loss = loss_func(val_pred_ratings, val_edge_values.view(-1,1)).sum()\n",
    "\n",
    "            recall_at_k, precision_at_k = get_recall_at_k(val_edge_index, \n",
    "                                                          val_edge_values, \n",
    "                                                          val_pred_ratings)\n",
    "    \n",
    "                \n",
    "            val_recall_at_ks.append(round(recall_at_k, 5))\n",
    "            train_losses.append(train_loss.item())\n",
    "            val_losses.append(val_loss.item())\n",
    "        \n",
    "            print(f\"[Iteration {iter}/{ITERATIONS}], train_loss: {round(train_loss.item(), 5)}, val_loss: {round(val_loss.item(), 5)},  recall_at_k {round(recall_at_k, 5)}, precision_at_k {round(precision_at_k, 5)}\")\n",
    "\n",
    "        model.train()\n",
    "\n",
    "    if iter % ITERS_PER_LR_DECAY == 0 and iter != 0:\n",
    "        scheduler.step()"
   ]
  },
  {
   "cell_type": "markdown",
   "id": "58187223",
   "metadata": {},
   "source": [
    "# Plot (RMSE)"
   ]
  },
  {
   "cell_type": "code",
   "execution_count": 25,
   "id": "30685ec8",
   "metadata": {},
   "outputs": [
    {
     "data": {
      "image/png": "[encoded data removed]",
      "text/plain": [
       "<Figure size 640x480 with 1 Axes>"
      ]
     },
     "metadata": {},
     "output_type": "display_data"
    }
   ],
   "source": [
    "iters = [iter * ITERS_PER_EVAL for iter in range(len(train_losses))]\n",
    "plt.plot(iters, train_losses, label='train')\n",
    "plt.plot(iters, val_losses, label='validation')\n",
    "plt.xlabel('iteration')\n",
    "plt.ylabel('loss')\n",
    "plt.title('training and validation loss curves')\n",
    "plt.legend()\n",
    "plt.show()"
   ]
  },
  {
   "cell_type": "code",
   "execution_count": 26,
   "id": "efc3f2a9",
   "metadata": {},
   "outputs": [
    {
     "data": {
      "image/png": "[encoded data removed]",
      "text/plain": [
       "<Figure size 640x480 with 1 Axes>"
      ]
     },
     "metadata": {},
     "output_type": "display_data"
    }
   ],
   "source": [
    "f2 = plt.figure()\n",
    "plt.plot(iters, val_recall_at_ks, label='recall_at_k')\n",
    "plt.xlabel('iteration')\n",
    "plt.ylabel('recall_at_k')\n",
    "plt.title('recall_at_k curves')\n",
    "plt.show()"
   ]
  },
  {
   "cell_type": "markdown",
   "id": "7cb9b880",
   "metadata": {},
   "source": [
    "# Evaluation (RMSE)"
   ]
  },
  {
   "cell_type": "code",
   "execution_count": 27,
   "id": "9fbabdb0",
   "metadata": {},
   "outputs": [
    {
     "name": "stdout",
     "output_type": "stream",
     "text": [
      "recall_at_k 0.20615, precision_at_k 0.29663\n"
     ]
    }
   ],
   "source": [
    "model.eval()\n",
    "with torch.no_grad():\n",
    "    pred_ratings = model.forward(test_edge_index)\n",
    "    recall_at_k, precision_at_k = get_recall_at_k(test_edge_index, test_edge_values, pred_ratings)\n",
    "    print(f\"recall_at_k {round(recall_at_k, 5)}, precision_at_k {round(precision_at_k, 5)}\")\n"
   ]
  },
  {
   "cell_type": "code",
   "execution_count": null,
   "id": "dba7fd03",
   "metadata": {},
   "outputs": [],
   "source": []
  },
  {
   "cell_type": "code",
   "execution_count": null,
   "id": "e2613f81",
   "metadata": {},
   "outputs": [],
   "source": []
  },
  {
   "cell_type": "code",
   "execution_count": null,
   "id": "19f81e0b",
   "metadata": {},
   "outputs": [],
   "source": []
  },
  {
   "cell_type": "code",
   "execution_count": null,
   "id": "4234e73d",
   "metadata": {},
   "outputs": [],
   "source": []
  },
  {
   "cell_type": "markdown",
   "id": "76052a52",
   "metadata": {},
   "source": [
    "_--------------------- Manual Explore code above 👆🏼 START --------------------------------_"
   ]
  },
  {
   "cell_type": "code",
   "execution_count": null,
   "id": "a6ceaba5",
   "metadata": {},
   "outputs": [],
   "source": [
    "users_emb_final, users_emb_0, items_emb_final, items_emb_0 = model.forward(train_sparse_edge_index)"
   ]
  },
  {
   "cell_type": "code",
   "execution_count": null,
   "id": "118ef7b7",
   "metadata": {},
   "outputs": [],
   "source": [
    "print(f\"users_emb_final.size() {users_emb_final.size()}\")\n",
    "\n",
    "print(f\"items_emb_final.size(): {items_emb_final.size()}\")"
   ]
  },
  {
   "cell_type": "code",
   "execution_count": null,
   "id": "95b95b6d",
   "metadata": {},
   "outputs": [],
   "source": [
    "# 这里是要 concat 还是要 stack, 我觉得要 concat..。 但是怎么得到的 dimension 不太对? <<==== Here\n",
    "users_items_emb_final = torch.cat([users_emb_final, items_emb_final], dim=0)"
   ]
  },
  {
   "cell_type": "code",
   "execution_count": 64,
   "id": "4640d051",
   "metadata": {},
   "outputs": [
    {
     "name": "stdout",
     "output_type": "stream",
     "text": [
      "users_items_emb_final.size(): torch.Size([10334, 64])\n"
     ]
    }
   ],
   "source": [
    "# 这下对了\n",
    "print(f\"users_items_emb_final.size(): {users_items_emb_final.size()}\")"
   ]
  },
  {
   "cell_type": "code",
   "execution_count": 43,
   "id": "60321a03",
   "metadata": {},
   "outputs": [
    {
     "name": "stdout",
     "output_type": "stream",
     "text": [
      "user_indices tensor([2254]), pos_item_indices tensor([606]), neg_item_indices tensor([6704])\n"
     ]
    }
   ],
   "source": [
    "user_indices, pos_item_indices, neg_item_indices = sample_mini_batch(BATCH_SIZE, train_edge_index)\n",
    "print(f\"user_indices {user_indices}, pos_item_indices {pos_item_indices}, neg_item_indices {neg_item_indices}\")\n",
    "    "
   ]
  },
  {
   "cell_type": "code",
   "execution_count": 49,
   "id": "39adf3e9",
   "metadata": {},
   "outputs": [
    {
     "name": "stdout",
     "output_type": "stream",
     "text": [
      "user_indices tensor([2254]), pos_item_indices tensor([606]), neg_item_indices tensor([6704])\n"
     ]
    }
   ],
   "source": [
    "# 全部转成 to(device) 的格式\n",
    "user_indices, pos_item_indices, neg_item_indices = user_indices.to(device), pos_item_indices.to(device), neg_item_indices.to(device)\n",
    "print(f\"user_indices {user_indices}, pos_item_indices {pos_item_indices}, neg_item_indices {neg_item_indices}\")\n"
   ]
  },
  {
   "cell_type": "code",
   "execution_count": null,
   "id": "2f04b03c",
   "metadata": {},
   "outputs": [],
   "source": []
  },
  {
   "cell_type": "code",
   "execution_count": null,
   "id": "a09f8cd6",
   "metadata": {},
   "outputs": [],
   "source": []
  },
  {
   "cell_type": "code",
   "execution_count": null,
   "id": "0270092b",
   "metadata": {},
   "outputs": [],
   "source": [
    "\n",
    "# 拿到第一层，和最后一层的 user embedding?\n",
    "# 诶，还真是出界了... \n",
    "# 因为我 sample mini batch 的时候，在新的 bipartite 格式，是没有考虑 user 还是 item 的\n",
    "# 这里其实 >610 就是 item 的 index 了，所以这里要处理一下的\n",
    "# 或者我直接用一个 embedding 不用分成两个..？\n",
    "# 不过这样 positive_item, negative_item 就会出问题... hmm...\n",
    "# 这个得想一想怎么弄... 这个是我因为弄 bidirectional 的缘故..\n",
    "# .. 或者先不弄 birectional?? 不然咋sample 呀??\n",
    "# 或者这样，我 传给 model 的是 birectional\n",
    "# 但是给 sampling 用的不是 birectional， 这样就能抱着 positive 和 negative_item sampling 可以用了\n",
    "\n",
    "users_emb_final, users_emb_0 = users_emb_final[user_indices], users_emb_0[user_indices]"
   ]
  },
  {
   "cell_type": "code",
   "execution_count": null,
   "id": "cefe7602",
   "metadata": {},
   "outputs": [],
   "source": []
  },
  {
   "cell_type": "code",
   "execution_count": null,
   "id": "6e9e2598",
   "metadata": {},
   "outputs": [],
   "source": []
  },
  {
   "cell_type": "code",
   "execution_count": null,
   "id": "9a3c82cf",
   "metadata": {},
   "outputs": [],
   "source": []
  },
  {
   "cell_type": "markdown",
   "id": "c0396ac1",
   "metadata": {},
   "source": [
    "_--------------------- Manual Explore DONE --------------------------------_"
   ]
  },
  {
   "cell_type": "code",
   "execution_count": null,
   "id": "1a2600e5",
   "metadata": {},
   "outputs": [],
   "source": []
  },
  {
   "cell_type": "code",
   "execution_count": null,
   "id": "addf3047",
   "metadata": {},
   "outputs": [],
   "source": [
    "iters = [iter * ITERS_PER_EVAL for iter in range(len(train_losses))]\n",
    "plt.plot(iters, train_losses, label='train')\n",
    "plt.plot(iters, val_losses, label='validation')\n",
    "plt.xlabel('iteration')\n",
    "plt.ylabel('loss')\n",
    "plt.title('training and validation loss curves')\n",
    "plt.legend()\n",
    "plt.show()"
   ]
  },
  {
   "cell_type": "code",
   "execution_count": null,
   "id": "5b7eb09f",
   "metadata": {},
   "outputs": [],
   "source": [
    "f2 = plt.figure()\n",
    "plt.plot(iters, val_recall_at_ks, label='recall_at_k')\n",
    "plt.xlabel('iteration')\n",
    "plt.ylabel('recall_at_k')\n",
    "plt.title('recall_at_k curves')\n",
    "plt.show()"
   ]
  },
  {
   "cell_type": "code",
   "execution_count": null,
   "id": "e3c3953e",
   "metadata": {},
   "outputs": [],
   "source": [
    "# evaluate on test set\n",
    "model.eval()\n",
    "test_edge_index = test_edge_index.to(device)\n",
    "test_sparse_edge_index = test_sparse_edge_index.to(device)\n",
    "\n",
    "# bidirectional_test_edge_index = to_bidirectional(test_edge_index)\n",
    "# bidirectional_test_sparse_edge_index = SparseTensor(\n",
    "#                                row=bidirectional_test_edge_index[0], \n",
    "#                                col=bidirectional_test_edge_index[1], \n",
    "#                                sparse_sizes=((num_users + num_movies), num_users + num_movies))\n",
    "\n",
    "\n",
    "\n",
    "test_loss, test_recall, test_precision, test_ndcg = evaluation(model, \n",
    "                                                               test_edge_index, \n",
    "                                                               test_sparse_edge_index, \n",
    "                                                               [train_edge_index, val_edge_index], \n",
    "                                                               K, \n",
    "                                                               LAMBDA)\n",
    "\n",
    "print(f\"[test_loss: {round(test_loss, 5)}, test_recall@{K}: {round(test_recall, 5)}, test_precision@{K}: {round(test_precision, 5)}, test_ndcg@{K}: {round(test_ndcg, 5)}\")"
   ]
  },
  {
   "cell_type": "markdown",
   "id": "970f950c",
   "metadata": {},
   "source": [
    "发现上面跑出来 效果也一般般\n",
    "我把原始代码的output 记录一下\n",
    "- [test_loss: -51.5177, test_recall@10: 0.08269, test_precision@10: 0.05815, test_ndcg@10: 0.09033\n",
    "\n",
    "卧槽，改了半天 bipartite，改了个寂寞？ (不过我的 iter 用的 500 而不是 10000 好吧，再试一下)\n",
    "（好像还是不太行，不然我把 bidirectional 拿掉？没有差，好像还是挺差.. 这个真多要歇会儿了... ）\n",
    "\n",
    "[test_loss: -29.82772, test_recall@10: 0.00317, test_precision@10: 0.00163, test_ndcg@10: 0.00212\n",
    "\n",
    "\n",
    "TRY: 我试一下只用一层？？(也不想\n",
    "\n",
    "TRY: 我试一下 threshold 用 >=1\n",
    "- 不行: [test_loss: -51.26439, test_recall@10: 0.00361, test_precision@10: 0.00127, test_ndcg@10: 0.00182\n",
    "- 不过我好像有个地方漏改了，所以其实还是 >=4 。。。难怪跟之前一样\n",
    "- TODO need redo:\n",
    "\n",
    "\n",
    "Thoughts: 我怀疑我还是 sparse tensor 没有理解对\n",
    "\n",
    "TRY: 实在不行，把 Bipartate 的处理拿掉？然后用 label encoded 的再跑一下看一下? 然后threshold 用 >=4, 然后 recall@k 的 k 用 20 (然后看一下 perf 会不会至少跟之前例子是持平的，然后再来试一下 bipartite 我把 threshold 该清楚\n",
    "- [test_loss: -44.70277, test_recall@20: 0.08734, test_precision@20: 0.03558, test_ndcg@20: 0.06751\n",
    "- 那就跟原始结果差不多\n",
    "- 发现 threshold at 4 的时候, training density 好低: \n",
    "            SparseTensor(row=tensor([  0,   0,   0,  ..., 609, 609, 609]),\n",
    "             col=tensor([   0,    5,   43,  ..., 9443, 9444, 9445]),\n",
    "             size=(10334, 10334), nnz=79572, density=0.07%)\n",
    "             \n",
    "            - 不对，我这已经是用 >=1 和 k = 20 来算的了\n",
    "\n",
    "\n",
    "_TOTRY_: 用 Bipartite， 而且 threahold 用 >=1\n",
    "    - 不行， 在前 1500 iter 左右还很低级别就没戏\n",
    "    \n",
    "    \n",
    "_TOTRY_: 改成用原始的 mapping，但是感觉大概率还是不行... 太失望了... \n",
    "\n",
    "\n",
    "还发现一个问题，他这每次 train 都是全部一起弄一个 epoch？但是 loss 用的是 batch 的 err? 不太对呀，不是应该\n",
    "\n",
    "_TOTRY_: 我直接试一下每次 loss 都用整个 batch 的 loss? 而不是 sample batch 的 loss?\n",
    "\n",
    "_TOTRY_\" 我如果不用 sparse matrix?\n",
    "\n",
    "_Update_: 卧槽，改了 formula 6 的正确写法之后，重要弄出来了 :  ✅\n",
    "\n",
    "    - [test_loss: -934.20184, test_recall@20: 0.18721, test_precision@20: 0.0367, test_ndcg@20: 0.10241\n",
    "    - 比原来还是高了不少的 但是真的跑的好久，1h11m... 明天整理一下，然后用 RMSE 试一下\n",
    "    \n",
    "_TOTRY_: 发现我应该先 split train/val/test 再转 adj mat 不然有可能 data leak 因为是 symmetric 的\n"
   ]
  },
  {
   "cell_type": "markdown",
   "id": "427c465c",
   "metadata": {},
   "source": [
    "# Make New Recommendatios for a Given User"
   ]
  },
  {
   "cell_type": "code",
   "execution_count": null,
   "id": "938f2eaf",
   "metadata": {},
   "outputs": [],
   "source": [
    "# model.eval()\n",
    "# df = pd.read_csv(movie_path)\n",
    "# movieid_title = pd.Series(df.title.values,index=df.movieId).to_dict()\n",
    "# movieid_genres = pd.Series(df.genres.values,index=df.movieId).to_dict()\n",
    "\n",
    "# user_pos_items = get_user_positive_items(edge_index)"
   ]
  },
  {
   "cell_type": "code",
   "execution_count": null,
   "id": "fbd08f70",
   "metadata": {},
   "outputs": [],
   "source": [
    "# def make_predictions(user_id, num_recs):\n",
    "#     user = user_mapping[user_id]\n",
    "#     e_u = model.users_emb.weight[user]\n",
    "    \n",
    "#     # 这里 @ 是 dot product\n",
    "#     scores = model.items_emb.weight @ e_u\n",
    "\n",
    "#     values, indices = torch.topk(scores, k=len(user_pos_items[user]) + num_recs)\n",
    "\n",
    "#     movies = [index.cpu().item() for index in indices if index in user_pos_items[user]][:num_recs]\n",
    "#     movie_ids = [list(movie_mapping.keys())[list(movie_mapping.values()).index(movie)] for movie in movies]\n",
    "#     titles = [movieid_title[id] for id in movie_ids]\n",
    "#     genres = [movieid_genres[id] for id in movie_ids]\n",
    "\n",
    "#     print(f\"Here are some movies that user {user_id} rated highly\")\n",
    "#     for i in range(num_recs):\n",
    "#         print(f\"title: {titles[i]}, genres: {genres[i]} \")\n",
    "\n",
    "#     print()\n",
    "\n",
    "#     movies = [index.cpu().item() for index in indices if index not in user_pos_items[user]][:num_recs]\n",
    "#     movie_ids = [list(movie_mapping.keys())[list(movie_mapping.values()).index(movie)] for movie in movies]\n",
    "#     titles = [movieid_title[id] for id in movie_ids]\n",
    "#     genres = [movieid_genres[id] for id in movie_ids]\n",
    "\n",
    "#     print(f\"Here are some suggested movies for user {user_id}\")\n",
    "#     for i in range(num_recs):\n",
    "#         print(f\"title: {titles[i]}, genres: {genres[i]} \")"
   ]
  },
  {
   "cell_type": "code",
   "execution_count": null,
   "id": "75cec862",
   "metadata": {},
   "outputs": [],
   "source": [
    "# USER_ID = 1\n",
    "# NUM_RECS = 10\n",
    "\n",
    "# make_predictions(USER_ID, NUM_RECS)"
   ]
  },
  {
   "cell_type": "markdown",
   "id": "17b6e79c",
   "metadata": {},
   "source": [
    "# Running Log\n",
    "\n",
    "- 好累呀\n",
    "- 好像直接卡住了\n",
    "- 按照 NCF 的写法，改了一下，可以了"
   ]
  },
  {
   "cell_type": "code",
   "execution_count": null,
   "id": "8fccf7c3",
   "metadata": {},
   "outputs": [],
   "source": []
  }
 ],
 "metadata": {
  "kernelspec": {
   "display_name": "Python 3 (ipykernel)",
   "language": "python",
   "name": "python3"
  },
  "language_info": {
   "codemirror_mode": {
    "name": "ipython",
    "version": 3
   },
   "file_extension": ".py",
   "mimetype": "text/x-python",
   "name": "python",
   "nbconvert_exporter": "python",
   "pygments_lexer": "ipython3",
   "version": "3.7.13"
  }
 },
 "nbformat": 4,
 "nbformat_minor": 5
}
