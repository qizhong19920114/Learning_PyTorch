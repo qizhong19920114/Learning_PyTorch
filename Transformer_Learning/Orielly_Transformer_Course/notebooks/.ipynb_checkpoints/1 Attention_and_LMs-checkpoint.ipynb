{
 "cells": [
  {
   "cell_type": "markdown",
   "id": "8af5cf0e",
   "metadata": {},
   "source": [
    "## 1.1 A brief history of NLP"
   ]
  },
  {
   "cell_type": "code",
   "execution_count": null,
   "id": "bbdc5bbe",
   "metadata": {},
   "outputs": [],
   "source": []
  },
  {
   "cell_type": "code",
   "execution_count": null,
   "id": "1748cab2",
   "metadata": {},
   "outputs": [],
   "source": []
  },
  {
   "cell_type": "code",
   "execution_count": null,
   "id": "1325d353",
   "metadata": {},
   "outputs": [],
   "source": []
  },
  {
   "cell_type": "markdown",
   "id": "4e15b273",
   "metadata": {},
   "source": [
    "## 1.2 Paying attention with attention"
   ]
  },
  {
   "cell_type": "code",
   "execution_count": null,
   "id": "2b0dc929",
   "metadata": {},
   "outputs": [],
   "source": []
  },
  {
   "cell_type": "code",
   "execution_count": null,
   "id": "93a8f129",
   "metadata": {},
   "outputs": [],
   "source": []
  },
  {
   "cell_type": "code",
   "execution_count": null,
   "id": "61c4296b",
   "metadata": {},
   "outputs": [],
   "source": []
  },
  {
   "cell_type": "markdown",
   "id": "92ba73cd",
   "metadata": {},
   "source": [
    "## 1.3 Encoder-decoder architectures"
   ]
  },
  {
   "cell_type": "code",
   "execution_count": null,
   "id": "d76726e5",
   "metadata": {},
   "outputs": [],
   "source": []
  },
  {
   "cell_type": "code",
   "execution_count": null,
   "id": "4bc0e556",
   "metadata": {},
   "outputs": [],
   "source": []
  },
  {
   "cell_type": "code",
   "execution_count": null,
   "id": "9b33f5d3",
   "metadata": {},
   "outputs": [],
   "source": []
  },
  {
   "cell_type": "code",
   "execution_count": null,
   "id": "49c10398",
   "metadata": {},
   "outputs": [],
   "source": []
  },
  {
   "cell_type": "markdown",
   "id": "15335b18",
   "metadata": {},
   "source": [
    "## 1.4 How language models look at text"
   ]
  },
  {
   "cell_type": "code",
   "execution_count": null,
   "id": "e660cb2f",
   "metadata": {},
   "outputs": [],
   "source": []
  }
 ],
 "metadata": {
  "kernelspec": {
   "display_name": "Python 3 (ipykernel)",
   "language": "python",
   "name": "python3"
  },
  "language_info": {
   "codemirror_mode": {
    "name": "ipython",
    "version": 3
   },
   "file_extension": ".py",
   "mimetype": "text/x-python",
   "name": "python",
   "nbconvert_exporter": "python",
   "pygments_lexer": "ipython3",
   "version": "3.9.10"
  }
 },
 "nbformat": 4,
 "nbformat_minor": 5
}
