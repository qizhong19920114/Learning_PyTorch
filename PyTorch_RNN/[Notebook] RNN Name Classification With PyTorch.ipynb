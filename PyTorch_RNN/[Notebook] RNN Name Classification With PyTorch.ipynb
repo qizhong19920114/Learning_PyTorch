{
 "cells": [
  {
   "cell_type": "markdown",
   "id": "89e89147",
   "metadata": {},
   "source": [
    "### PyTorch RNN Tutorial - Name Classification Using A Recurrent Neural Net\n",
    "\n",
    "https://www.youtube.com/watch?v=WEV61GmmPrk&list=PLqnslRFeH2UrcDBWF5mfPGpqQDSta6VK4&index=21\n",
    "\n",
    "__Note__: 这个 Tutorial 不是直接用 PyTorch 的 RNN 包，而是我们自己 implement 一个 RNN 来用!\n",
    "\n",
    "\n",
    "Project Process: \n",
    "1. preprocessing， 比如把有音标的单词给处理一下\n",
    "2. how to encode data. category/country 直接用index, 然后产生 tensor array, ```torch.tensor([all_categories.index(category)], dtype=torch.long)```. 然后 name 的话，就得对每个字母 1 hot, 然后一个name 的length作为一个 dimension, 输出一个 matrix (tensor). 感觉这里好多都是用 ```tensor = torch.zeros(len(line), 1, N_LETTERS)```, 然后再一个个 assign 值，来产生 encoded data in tensor format\n",
    "3. define model, 这个直接照图写\n",
    "4. training loop, 知道名字怎么 sequence 产生一个 tensor 然后跟 category/country 的 tensor 一起， 传到 loss function， 然后其他的都是照常的 training loop 的写法\n",
    "\n",
    "thoughts: \n",
    "- model 和 training loop 不难，主要是data 怎么预处理和 encoding 产生 input tensor 比较麻烦\n"
   ]
  },
  {
   "cell_type": "code",
   "execution_count": 1,
   "id": "f91f7e61",
   "metadata": {},
   "outputs": [],
   "source": [
    "import sys\n",
    "import os\n",
    "\n",
    "# This is a nice trick to add other python file to this notebook, 这样就挺方便的!!!\n",
    "# 本质上就是告诉 python interpreter, 你也去看一下我给你添加的这个 file path， 然后正好是我要 import 的那个 path\n",
    "# 但是这个方法好像有点小问题，就是你 import 的文件改了，你这个kernel 也得 refresh\n",
    "# \"sys.path contains a list of directories that the interpreter will search in for the required module\"\n",
    "#  credit: https://stackoverflow.com/questions/49264194/import-py-file-in-another-directory-in-jupyter-notebook  \n",
    "\n",
    "# 这里好像非得 join \"..\" 才行\n",
    "module_path = os.path.abspath(os.path.join('..'))\n",
    "if module_path not in sys.path:\n",
    "    sys.path.append(module_path + \"/PyTorch_RNN/pytorch-examples/rnn-name-classification\")\n",
    "\n"
   ]
  },
  {
   "cell_type": "code",
   "execution_count": 2,
   "id": "9695b677",
   "metadata": {},
   "outputs": [
    {
     "name": "stdout",
     "output_type": "stream",
     "text": [
      "['/Users/qizhong/Downloads/PyTorch_Learning/PyTorch_RNN', '/python', '/python/build', '/Users/qizhong/Downloads/PyTorch_Learning/PyTorch_RNN', '/opt/anaconda3/envs/pytorch/lib/python37.zip', '/opt/anaconda3/envs/pytorch/lib/python3.7', '/opt/anaconda3/envs/pytorch/lib/python3.7/lib-dynload', '', '/opt/anaconda3/envs/pytorch/lib/python3.7/site-packages', '/opt/anaconda3/envs/pytorch/lib/python3.7/site-packages/IPython/extensions', '/Users/qizhong/.ipython', '/Users/qizhong/Downloads/PyTorch_Learning/PyTorch_RNN/pytorch-examples/rnn-name-classification']\n"
     ]
    }
   ],
   "source": [
    "print(sys.path)"
   ]
  },
  {
   "cell_type": "code",
   "execution_count": 3,
   "id": "12716611",
   "metadata": {},
   "outputs": [],
   "source": [
    "from utils import *"
   ]
  },
  {
   "cell_type": "code",
   "execution_count": 4,
   "id": "5855f2ff",
   "metadata": {},
   "outputs": [],
   "source": [
    "import torch\n",
    "import torch.nn as nn \n",
    "import matplotlib.pyplot as plt "
   ]
  },
  {
   "cell_type": "markdown",
   "id": "16631cc5",
   "metadata": {},
   "source": [
    "\n",
    "<img src=\"img/rnn_model_arch.png\" width=800 height=800 />\n"
   ]
  },
  {
   "cell_type": "code",
   "execution_count": 5,
   "id": "e02af04b",
   "metadata": {},
   "outputs": [],
   "source": [
    "# 这边主要就是 implement 上面这个图， 他这个图不准确？应该只有一个 hidden module\n",
    "# Question:  nn.Linear 是怎么把 size 128 + 57 -> output 成 18 size 的?\n",
    "# Answer: https://stackoverflow.com/questions/54916135/what-is-the-class-definition-of-nn-linear-in-pytorch\n",
    "#     - \"Note that the weights W have shape (out_features, in_features) and biases b have shape (out_features).\"\n",
    "\n",
    "\n",
    "class RNN(nn.Module):\n",
    "    # nn.RNN\n",
    "    def __init__(self, input_size, hidden_size, output_size):\n",
    "        super(RNN, self).__init__()\n",
    "        \n",
    "        # initialize 所有需要的 layer (这里先不连, forward 部分再连)\n",
    "        self.hidden_size = hidden_size\n",
    "        # 这边 input size 因为是 combine 所以是两个加起来，然后output给 hidden 所以用 hidden_size\n",
    "        self.i2h = nn.Linear(input_size + hidden_size, hidden_size)\n",
    "        self.i2o = nn.Linear(input_size + hidden_size, output_size)\n",
    "        self.softmax = nn.LogSoftmax(dim=1) # 为啥 dim 1? 因为softmax 就一个 array 的output\n",
    "        \n",
    "    \n",
    "    # 这边 forward 就是写怎么连，怎么去 model 这个 forward path， 这里没有写 loss 因为\n",
    "    # 根据签名说 loss 包括在 softmax 里面了，所有不用专门定\n",
    "    # 这边连 layer, 我 A 连 B 直接 self.A(B) 这要写就可以\n",
    "    def forward(self, input_tensor, hidden_tensor): \n",
    "        # 就是上图的 hidden 和 input combine 然后给 output 和 hidden 用\n",
    "        combined = torch.cat((input_tensor, hidden_tensor), dim=1)\n",
    "        \n",
    "        hidden = self.i2h(combined)\n",
    "        output = self.i2o(combined)\n",
    "        output = self.softmax(output)\n",
    "        return output, hidden\n",
    "    \n",
    "    # 这个是因为我们需要 initial hidden state, \n",
    "    # 我们要 return 一个 empty tensor of 1 x hidden_size\n",
    "    def init_hidden(self):\n",
    "        return torch.zeros(1, self.hidden_size)\n",
    "        \n",
    "        "
   ]
  },
  {
   "cell_type": "code",
   "execution_count": 6,
   "id": "f5a77b41",
   "metadata": {},
   "outputs": [
    {
     "name": "stdout",
     "output_type": "stream",
     "text": [
      "18\n"
     ]
    }
   ],
   "source": [
    "category_lines, all_categories = load_data('./pytorch-examples/rnn-name-classification/data/names/*.txt')\n",
    "n_categories = len(all_categories)\n",
    "\n",
    "print(n_categories)"
   ]
  },
  {
   "cell_type": "code",
   "execution_count": 7,
   "id": "088786eb",
   "metadata": {},
   "outputs": [],
   "source": [
    "n_hidden = 128\n",
    "rnn = RNN(input_size=N_LETTERS, \n",
    "          hidden_size=n_hidden, \n",
    "          output_size=n_categories)\n"
   ]
  },
  {
   "cell_type": "code",
   "execution_count": 8,
   "id": "b2bd6b8a",
   "metadata": {},
   "outputs": [
    {
     "name": "stdout",
     "output_type": "stream",
     "text": [
      "torch.Size([1, 18])\n",
      "torch.Size([1, 128])\n"
     ]
    }
   ],
   "source": [
    "# one step 试一下 output 长啥样\n",
    "input_tensor = letter_to_tensor('A') # 就只给一个字母作为 input\n",
    "hidden_tensor = rnn.init_hidden() #用我们上面的 init_hidden 来弄一个 dummy hidden tensor\n",
    "\n",
    "# 这边 rnn(..) 就相当于直接 call forward path 了, 但是 rnn.forward 这样写清楚一些\n",
    "output, next_hidden = rnn.forward(input_tensor, hidden_tensor)\n",
    "\n",
    "#  看一下 output size 和 next_hidden size 长啥样\n",
    "print(output.size())\n",
    "print(next_hidden.size())"
   ]
  },
  {
   "cell_type": "code",
   "execution_count": 9,
   "id": "62485652",
   "metadata": {},
   "outputs": [
    {
     "name": "stdout",
     "output_type": "stream",
     "text": [
      "torch.Size([1, 18])\n",
      "torch.Size([1, 128])\n"
     ]
    }
   ],
   "source": [
    "# whole sequence/name 试一下看直接给一个单词长啥样\n",
    "input_tensor = line_to_tensor('Albert')\n",
    "hidden_tensor = rnn.init_hidden()\n",
    "\n",
    "# 注意 line_to_tensor() output 的是 <line_length x 1 x n_letters>\n",
    "# 这里 input_tensor[0] 还是只看一个字母, 那么我整个 sequence 是咋写的? 估计后面 training 会有\n",
    "output, next_hidden = rnn(input_tensor[0], hidden_tensor)\n",
    "print(output.size())\n",
    "print(next_hidden.size())"
   ]
  },
  {
   "cell_type": "code",
   "execution_count": 10,
   "id": "d20ec0e9",
   "metadata": {},
   "outputs": [
    {
     "name": "stdout",
     "output_type": "stream",
     "text": [
      "Japanese\n"
     ]
    }
   ],
   "source": [
    "# helper function to turn tensor output into a category name\n",
    "def category_from_output(output):\n",
    "    #通过 argmax 拿到 softmax output 的最大一个值的 index 然后就可以 look up for item name\n",
    "    category_idx = torch.argmax(output).item()\n",
    "    return all_categories[category_idx]\n",
    "\n",
    "# Italian 不对，因为没有 train 啦\n",
    "print(category_from_output(output))"
   ]
  },
  {
   "cell_type": "markdown",
   "id": "93803035",
   "metadata": {},
   "source": [
    "<font color='red'>Question</font>: 为啥 loss 用这个？不用 cross entropy\n",
    "\n",
    "<font color='green'>Answer</font>: 查了一下，好像就是一个东西，只是在 pytorch 里面 input 略有不同\n",
    "\n",
    "NNLoss: Negative Likelihood Loss Func: The negative log likelihood loss. It is useful to \n",
    "train a classification problem with C classes.\n",
    "\n",
    "when designing a neural network multi-class classifier, you can you CrossEntropyLoss with no activation, \n",
    "or you can use NLLLoss with log-SoftMax activation. This applies only to multi-class classification\n",
    "\n",
    "有人说就是一个东西: The negative log likelihood (eq.80) is also known as the multiclass cross-entropy\n",
    "as they are in fact two different interpretations of the same formula. 因为:\n",
    "- Loss = - (y*log(y_hat) + (1-y) log(1-y_hat))  就是 punish 当 y 猜的是 1, 然后 y_hat 是接近0, 或者当 y 猜的是 0, 然后 y_hat 是 接近1, \n",
    "\n",
    "感觉就是 pytorch 里面，如果我明确的写 logSoftMax 那就要用 NLL, 如果我用 Cross Entropy， 那么 softmax 就包括到里面了\n",
    "\n",
    "\n",
    "突然想起来， [Notebook] Deep Learning With PyTorch - Full Course 这个 noteoobk 里面我有写到的\n",
    "- \"CrossEntropyLoss in PyTorch (applies Softmax) nn.LogSoftmax + nn.NLLLoss\"\n",
    "\n",
    "\n",
    "ref: \n",
    "- https://jamesmccaffrey.wordpress.com/2020/06/11/pytorch-crossentropyloss-vs-nllloss-cross-entropy-loss-vs-negative-log-likelihood-loss/\n",
    "- https://discuss.pytorch.org/t/difference-between-cross-entropy-loss-or-log-likelihood-loss/38816/3"
   ]
  },
  {
   "cell_type": "code",
   "execution_count": 11,
   "id": "0a211c39",
   "metadata": {},
   "outputs": [],
   "source": [
    "\n",
    "\n",
    "loss_func = nn.NLLLoss()\n",
    "learning_rate = 0.005\n",
    "optimizer = torch.optim.SGD(rnn.parameters(), lr=learning_rate)\n"
   ]
  },
  {
   "cell_type": "code",
   "execution_count": 12,
   "id": "e9096ac5",
   "metadata": {},
   "outputs": [],
   "source": [
    "# name_tensor is the 1 hot encoding of name/word (1 x length x letter_n)\n",
    "# category_tensor is the 1 hot encoding of category (1 x category_n)\n",
    "# 这个就是 把每个 word/name 给一个个字母过一遍 rnn model, 然后 forward path (算 loss) 和 backword pass 算 gradient\n",
    "# 走一边\n",
    "def train_helper(name_tensor, category_tensor):\n",
    "    hidden = rnn.init_hidden()\n",
    "    \n",
    "    # sequence model sliding window 1 by 1 to generate the rnn output tensor for each name\n",
    "    for i in range(name_tensor.size()[0]):\n",
    "        output, hidden = rnn(name_tensor[i], hidden)\n",
    "        \n",
    "    loss = loss_func(output, category_tensor)\n",
    "    \n",
    "    optimizer.zero_grad()\n",
    "    loss.backward()\n",
    "    optimizer.step()\n",
    "    \n",
    "    return output, loss.item()"
   ]
  },
  {
   "cell_type": "code",
   "execution_count": 13,
   "id": "6bb344c7",
   "metadata": {},
   "outputs": [
    {
     "name": "stdout",
     "output_type": "stream",
     "text": [
      "5000 5.0 2.4462 Sauvageau / Greek WRONG (French)\n",
      "10000 10.0 1.7541 Cabrera / Spanish CORRECT\n",
      "15000 15.0 3.1696 Pech / Dutch WRONG (Czech)\n",
      "20000 20.0 0.8972 Tadhgan / Irish CORRECT\n",
      "25000 25.0 1.3320 Login / Irish CORRECT\n",
      "30000 30.0 2.0298 Mujdabaev / Russian CORRECT\n",
      "35000 35.0 1.2564 Ozimuk / Polish WRONG (Czech)\n",
      "40000 40.0 1.4679 Bock / Czech CORRECT\n",
      "45000 45.0 3.1013 Adams / Arabic WRONG (English)\n",
      "50000 50.0 1.9323 Eccott / French WRONG (English)\n",
      "55000 55.00000000000001 1.1734 Laren / Dutch CORRECT\n",
      "60000 60.0 1.2413 Daviau / French CORRECT\n",
      "65000 65.0 0.5176 Ryom / Korean CORRECT\n",
      "70000 70.0 0.2984 Savatier / French CORRECT\n",
      "75000 75.0 5.4240 Kan / Chinese WRONG (Dutch)\n",
      "80000 80.0 1.5307 Quintana / Japanese WRONG (Spanish)\n",
      "85000 85.0 0.8878 Watt / Scottish CORRECT\n",
      "90000 90.0 0.3297 Khoury / Arabic CORRECT\n",
      "95000 95.0 3.5032 Horri / Italian WRONG (Japanese)\n",
      "100000 100.0 3.1083 Grant / Vietnamese WRONG (Scottish)\n"
     ]
    },
    {
     "data": {
      "image/png": "[encoded data removed]",
      "text/plain": [
       "<Figure size 432x288 with 1 Axes>"
      ]
     },
     "metadata": {
      "needs_background": "light"
     },
     "output_type": "display_data"
    }
   ],
   "source": [
    "current_loss = 0\n",
    "all_losses_list = [] #为了后面画图用\n",
    "plot_steps, print_steps = 1000, 5000\n",
    "n_iters = 100000 #10000 个 epoch?\n",
    "\n",
    "for i in range(n_iters):\n",
    "    # category_lines is a category to name list map\n",
    "    category, name, category_tensor, name_tensor = random_training_example(category_lines, all_categories)\n",
    "    \n",
    "    output, loss = train_helper(name_tensor, category_tensor)\n",
    "    current_loss += loss \n",
    "    \n",
    "    if (i+1) % plot_steps == 0:\n",
    "        all_losses_list.append(current_loss / plot_steps)\n",
    "        current_loss = 0\n",
    "        \n",
    "    if (i+1) % print_steps == 0:\n",
    "        guess = category_from_output(output)\n",
    "        correct = \"CORRECT\" if guess == category else f\"WRONG ({category})\"\n",
    "        print(f\"{i+1} {(i+1)/n_iters*100} {loss:.4f} {name} / {guess} {correct}\")\n",
    "        \n",
    "    \n",
    "plt.figure()\n",
    "plt.plot(all_losses_list)\n",
    "plt.show()"
   ]
  },
  {
   "cell_type": "code",
   "execution_count": 14,
   "id": "f6275b38",
   "metadata": {},
   "outputs": [
    {
     "name": "stdout",
     "output_type": "stream",
     "text": [
      "Accuracy 57.9\n"
     ]
    }
   ],
   "source": [
    "# Model Evaluation (自己写的，试一下..)\n",
    "\n",
    "total = 1000\n",
    "n_correct = 0\n",
    "for i in range(total):\n",
    "    with torch.no_grad():\n",
    "        category, name, category_tensor, name_tensor = random_training_example_with_split(category_lines, all_categories, True)\n",
    "\n",
    "        hidden = rnn.init_hidden()\n",
    "    \n",
    "        for i in range(name_tensor.size()[0]):\n",
    "            output, hidden = rnn(name_tensor[i], hidden)\n",
    "\n",
    "        guess = category_from_output(output[0])\n",
    "        \n",
    "#         print(f'name {name} guess {guess}, category {category}')\n",
    "        if(category == guess):\n",
    "            n_correct+=1\n",
    "            \n",
    "\n",
    "print(f'Accuracy {100 * n_correct / total}')\n",
    "        "
   ]
  },
  {
   "cell_type": "code",
   "execution_count": 33,
   "id": "fc3df3da",
   "metadata": {},
   "outputs": [],
   "source": [
    "def predict(input_line):\n",
    "    print(f\"\\n> {input_line}\")\n",
    "    with torch.no_grad():\n",
    "        line_tensor = line_to_tensor(input_line)\n",
    "        \n",
    "        hidden = rnn.init_hidden()\n",
    "    \n",
    "        for i in range(line_tensor.size()[0]):\n",
    "            output, hidden = rnn(line_tensor[i], hidden)\n",
    "        \n",
    "        guess = category_from_output(output)\n",
    "        print(guess)"
   ]
  },
  {
   "cell_type": "code",
   "execution_count": 35,
   "id": "f5f42628",
   "metadata": {},
   "outputs": [
    {
     "name": "stdout",
     "output_type": "stream",
     "text": [
      "\n",
      "> Ashley\n",
      "English\n"
     ]
    }
   ],
   "source": [
    "predict(\"Ashley\")"
   ]
  },
  {
   "cell_type": "markdown",
   "id": "63d10bc6",
   "metadata": {},
   "source": [
    "----------------------\n",
    "----------------------\n",
    "\n",
    "### PyTorch Tutorial - RNN & LSTM & GRU - Recurrent Neural Nets\n",
    "\n",
    "https://www.youtube.com/watch?v=0_PgWWmauHk&list=PLqnslRFeH2UrcDBWF5mfPGpqQDSta6VK4&index=20\n",
    "\n",
    "他这里很骚的非得 RNN 来做 image classification: We treat one image dim as sequence and the other as dimensions"
   ]
  },
  {
   "cell_type": "code",
   "execution_count": 42,
   "id": "f955f4ea",
   "metadata": {},
   "outputs": [],
   "source": [
    "import torch\n",
    "import torch.nn as nn\n",
    "import torchvision\n",
    "import torchvision.transforms as transforms\n",
    "\n",
    "# Device configuration\n",
    "device = torch.device('cuda' if torch.cuda.is_available() else 'cpu')\n",
    "\n",
    "# Hyper-parameters \n",
    "# input_size = 784 # 28x28\n",
    "num_classes = 10 # 10 个数字 0->9\n",
    "num_epochs = 2\n",
    "batch_size = 100\n",
    "learning_rate = 0.001\n",
    "\n",
    "# We treat one image dim as sequence and the other as dimensions\n",
    "# 因为 picture 是 28x28\n",
    "input_size = 28 \n",
    "sequence_length = 28\n",
    "\n",
    "hidden_size = 128\n",
    "# RNN 的 layer 不懂啥意思。。 可能就是两层 hidden layer\n",
    "#  input -> hidden1 (self loop) -> hidden2 (self loop) -> output (linear+softmax)\n",
    "# \"setting num_layers=2 would mean stacking two RNNs together to form a stacked RNN, with\n",
    "# the second RNN taking in outputs of the first RNN and computing the final results\"\n",
    "num_layers = 2 \n"
   ]
  },
  {
   "cell_type": "code",
   "execution_count": null,
   "id": "2bb5925e",
   "metadata": {},
   "outputs": [],
   "source": [
    "# MNIST dataset \n",
    "train_dataset = torchvision.datasets.MNIST(root='./data', \n",
    "                                           train=True, \n",
    "                                           transform=transforms.ToTensor(),  \n",
    "                                           download=True)\n",
    "\n",
    "test_dataset = torchvision.datasets.MNIST(root='./data', \n",
    "                                          train=False, \n",
    "                                          transform=transforms.ToTensor())\n",
    "\n",
    "# Data loader\n",
    "train_loader = torch.utils.data.DataLoader(dataset=train_dataset, \n",
    "                                           batch_size=batch_size, \n",
    "                                           shuffle=True)\n",
    "\n",
    "test_loader = torch.utils.data.DataLoader(dataset=test_dataset, \n",
    "                                          batch_size=batch_size, \n",
    "                                          shuffle=False)\n",
    "\n"
   ]
  },
  {
   "cell_type": "code",
   "execution_count": 54,
   "id": "8dde173d",
   "metadata": {},
   "outputs": [],
   "source": [
    "class RNN(nn.Module):\n",
    "    def __init__(self, input_size, hidden_size, num_layers, num_classes):\n",
    "        super(RNN, self).__init__()\n",
    "        self.num_layers = num_layers\n",
    "        self.hidden_size = hidden_size\n",
    "        \n",
    "        # batch_first=True means  input and output tensors are \n",
    "        # provided as (batch, seq, feature) instead of (seq, batch, feature).\n",
    "        self.rnn = nn.RNN(input_size, hidden_size, num_layers, batch_first=True)\n",
    "        \n",
    "        self.fc = nn.Linear(hidden_size, num_classes)\n",
    "        \n",
    "    def forward(self, x):\n",
    "        # Set initial hidden states (and cell states for LSTM)\n",
    "        # Question： 为啥 hidden0 是这个 shape?? 2 x ? x 128  x.size(0) 是 batch size? 100?? what??\n",
    "        # Answer: \n",
    "        #  h0 是 initialized hidden state, 0 这里表示是 time (initial) 而不是第0 层\n",
    "        #  根据官方文档, hidden laysers initial state 就是\n",
    "        #   （D * number_layers, batch_size, hidden_size)\n",
    "        #     D=2 if bidirectional=True otherwise 1\n",
    "        # ref: https://pytorch.org/docs/stable/generated/torch.nn.RNN.html \n",
    "        \n",
    "        h0 = torch.zeros(self.num_layers, x.size(0), self.hidden_size).to(device) \n",
    "        \n",
    "        #我的 input 长这样： x: (n, 28, 28), h0: (2, n, 128)，  n 这里是 batch_size 即一次多少个 training sample\n",
    "        \n",
    "        # Output: 即 每个 h_t (t from 0-> seq_len) 都给你, 所以是 (batch_size, seq_len, hidden_size) ， \n",
    "        #    这里 t 的长度，对应的是 seq_len, 那么在我们这个例子里，就是 28 , 因为我们把图的一个 dim 作为 seq_len, 另一个 dim 作为 input_size\n",
    "        # H_n: 即 给你 每个 batch 的最后一个 t 的 hidden state (比如两层 RNN 就两个 hidden state 都给你） ，\n",
    "        #    所以 dim 是 (num_layers, batch_size, output_size)\n",
    "        # 所以其实最后算 output 两个方法都可以\n",
    "        out, h_n = self.rnn(x, h0)\n",
    "        \n",
    "        \n",
    "        # Question: 这里为啥不能用 h_n? Answer: 试了一下就是可以\n",
    "        # h_n: (2, n, 128) but we want n, 128\n",
    "        # 拿最终 h_t 的 output 的写法1\n",
    "        # output shape: (num_layers, batch_size, output_size)\n",
    "        out = h_n[-1, :, :]\n",
    "        \n",
    "        \n",
    "        # Decode the hidden state of the last time step\n",
    "        # 拿最终 h_t 的 output 的写法2:\n",
    "        # tensor of shape (batch_size, seq_length, hidden_size)\n",
    "        # out: (n, 28, 128)\n",
    "        # out = out[:, -1, :]\n",
    "        # out: (n, 128)\n",
    "         \n",
    "        out = self.fc(out)\n",
    "        # out: (n, 10)\n",
    "        return out\n",
    "        \n",
    "        \n",
    "        \n",
    "        \n",
    "        \n",
    "        "
   ]
  },
  {
   "cell_type": "code",
   "execution_count": 55,
   "id": "5a8d6302",
   "metadata": {},
   "outputs": [
    {
     "name": "stdout",
     "output_type": "stream",
     "text": [
      "Epoch [1/2], Step [100/600], Loss: 1.0107\n",
      "Epoch [1/2], Step [200/600], Loss: 0.7195\n",
      "Epoch [1/2], Step [300/600], Loss: 0.3752\n",
      "Epoch [1/2], Step [400/600], Loss: 0.4237\n",
      "Epoch [1/2], Step [500/600], Loss: 0.2348\n",
      "Epoch [1/2], Step [600/600], Loss: 0.2227\n",
      "Epoch [2/2], Step [100/600], Loss: 0.3031\n",
      "Epoch [2/2], Step [200/600], Loss: 0.1686\n",
      "Epoch [2/2], Step [300/600], Loss: 0.1467\n",
      "Epoch [2/2], Step [400/600], Loss: 0.1627\n",
      "Epoch [2/2], Step [500/600], Loss: 0.2621\n",
      "Epoch [2/2], Step [600/600], Loss: 0.1903\n"
     ]
    }
   ],
   "source": [
    "model = RNN(input_size, hidden_size, num_layers, num_classes).to(device)\n",
    "\n",
    "# Loss and optimizer\n",
    "criterion = nn.CrossEntropyLoss()\n",
    "optimizer = torch.optim.Adam(model.parameters(), lr=learning_rate)  \n",
    "\n",
    "# Train the model\n",
    "# Training loop 跟之前 CNN 是一样\n",
    "n_total_steps = len(train_loader)\n",
    "for epoch in range(num_epochs):\n",
    "    for i, (images, labels) in enumerate(train_loader):  \n",
    "        # origin shape: [N, 1, 28, 28]\n",
    "        # resized: [N, 28, 28]\n",
    "        # Question: 诶？？这边 reshape 跟之前还不太一样...  之前是 images = images.reshape(-1, 28*28).to(device)\n",
    "        # Answer: 哦，因为我之前是 CNN 的例子，这里是 RNN, 而且我 input 期待的就是 x: (n, 28, 28), batch_size x seq_len x input_feature_len 这么用\n",
    "        # 然后这里 -1 是一个 reshape 的默认计算，而不是指倒数第一个\n",
    "        images = images.reshape(-1, sequence_length, input_size).to(device)\n",
    "        labels = labels.to(device)\n",
    "        \n",
    "        # Forward pass\n",
    "        outputs = model(images)\n",
    "        loss = criterion(outputs, labels)\n",
    "        \n",
    "        # Backward and optimize\n",
    "        optimizer.zero_grad()\n",
    "        loss.backward()\n",
    "        optimizer.step()\n",
    "        \n",
    "        if (i+1) % 100 == 0:\n",
    "            print (f'Epoch [{epoch+1}/{num_epochs}], Step [{i+1}/{n_total_steps}], Loss: {loss.item():.4f}')\n"
   ]
  },
  {
   "cell_type": "code",
   "execution_count": 56,
   "id": "c632a3ba",
   "metadata": {},
   "outputs": [
    {
     "name": "stdout",
     "output_type": "stream",
     "text": [
      "Accuracy of the network on the 10000 test images: 93.83 %\n"
     ]
    }
   ],
   "source": [
    "# Test the model\n",
    "# In test phase, we don't need to compute gradients (for memory efficiency)\n",
    "with torch.no_grad():\n",
    "    n_correct = 0\n",
    "    n_samples = 0\n",
    "    for images, labels in test_loader:\n",
    "        images = images.reshape(-1, sequence_length, input_size).to(device)\n",
    "        labels = labels.to(device)\n",
    "        outputs = model(images)\n",
    "        # max returns (value ,index)\n",
    "        _, predicted = torch.max(outputs.data, 1)\n",
    "        n_samples += labels.size(0)\n",
    "        n_correct += (predicted == labels).sum().item()\n",
    "\n",
    "    acc = 100.0 * n_correct / n_samples\n",
    "    print(f'Accuracy of the network on the 10000 test images: {acc} %')"
   ]
  }
 ],
 "metadata": {
  "kernelspec": {
   "display_name": "Python 3 (ipykernel)",
   "language": "python",
   "name": "python3"
  },
  "language_info": {
   "codemirror_mode": {
    "name": "ipython",
    "version": 3
   },
   "file_extension": ".py",
   "mimetype": "text/x-python",
   "name": "python",
   "nbconvert_exporter": "python",
   "pygments_lexer": "ipython3",
   "version": "3.7.13"
  }
 },
 "nbformat": 4,
 "nbformat_minor": 5
}
