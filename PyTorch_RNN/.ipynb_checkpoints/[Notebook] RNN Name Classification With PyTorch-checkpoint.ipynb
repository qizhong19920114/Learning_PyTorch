{
 "cells": [
  {
   "cell_type": "markdown",
   "id": "89e89147",
   "metadata": {},
   "source": [
    "### PyTorch RNN Tutorial - Name Classification Using A Recurrent Neural Net\n",
    "\n",
    "https://www.youtube.com/watch?v=WEV61GmmPrk&list=PLqnslRFeH2UrcDBWF5mfPGpqQDSta6VK4&index=21\n",
    "\n",
    "__Note__: 这个 Tutorial 不是直接用 PyTorch 的 RNN 包，而是我们自己 implement 一个 RNN 来用!\n",
    "\n",
    "TODO: \n",
    "- 这个写完一定要总结一下 process, 以后按照这个 process 做项目..\n"
   ]
  },
  {
   "cell_type": "code",
   "execution_count": 17,
   "id": "f91f7e61",
   "metadata": {},
   "outputs": [],
   "source": [
    "import sys\n",
    "import os\n",
    "\n",
    "# This is a nice trick to add other python file to this notebook, 这样就挺方便的!!!\n",
    "# 本质上就是告诉 python interpreter, 你也去看一下我给你添加的这个 file path， 然后正好是我要 import 的那个 path\n",
    "# 但是这个方法好像有点小问题，就是你 import 的文件改了，你这个kernel 也得 refresh\n",
    "# \"sys.path contains a list of directories that the interpreter will search in for the required module\"\n",
    "#  credit: https://stackoverflow.com/questions/49264194/import-py-file-in-another-directory-in-jupyter-notebook  \n",
    "\n",
    "module_path = os.path.abspath(os.path.join('.'))\n",
    "if module_path not in sys.path:\n",
    "    sys.path.append(module_path + \"/pytorch-examples/rnn-name-classification\")\n",
    "\n",
    "from utils import *"
   ]
  },
  {
   "cell_type": "code",
   "execution_count": 18,
   "id": "9695b677",
   "metadata": {},
   "outputs": [
    {
     "name": "stdout",
     "output_type": "stream",
     "text": [
      "['/Users/qizhong/Downloads/PyTorch_Learning/PyTorch_RNN', '/python', '/python/build', '/Users/qizhong/Downloads/PyTorch_Learning/PyTorch_RNN', '/opt/anaconda3/envs/pytorch/lib/python37.zip', '/opt/anaconda3/envs/pytorch/lib/python3.7', '/opt/anaconda3/envs/pytorch/lib/python3.7/lib-dynload', '', '/opt/anaconda3/envs/pytorch/lib/python3.7/site-packages', '/opt/anaconda3/envs/pytorch/lib/python3.7/site-packages/IPython/extensions', '/Users/qizhong/.ipython', '/Users/qizhong/Downloads/PyTorch_Learning/PyTorch_RNN/pytorch-examples/rnn-name-classification']\n"
     ]
    }
   ],
   "source": [
    "print(sys.path)"
   ]
  },
  {
   "cell_type": "code",
   "execution_count": 19,
   "id": "5855f2ff",
   "metadata": {},
   "outputs": [],
   "source": [
    "import torch\n",
    "import torch.nn as nn \n",
    "import matplotlib.pyplot as plt "
   ]
  },
  {
   "cell_type": "markdown",
   "id": "16631cc5",
   "metadata": {},
   "source": [
    "\n",
    "<img src=\"img/rnn_model_arch.png\" width=800 height=800 />\n"
   ]
  },
  {
   "cell_type": "code",
   "execution_count": 20,
   "id": "e02af04b",
   "metadata": {},
   "outputs": [],
   "source": [
    "# 这边主要就是 implement 上面这个图， 他这个图不准确？应该只有一个 hidden module\n",
    "# Question:  nn.Linear 是怎么把 size 128 + 57 -> output 成 18 size 的?\n",
    "# Answer: https://stackoverflow.com/questions/54916135/what-is-the-class-definition-of-nn-linear-in-pytorch\n",
    "#     - \"Note that the weights W have shape (out_features, in_features) and biases b have shape (out_features).\"\n",
    "class RNN(nn.Module):\n",
    "    # nn.RNN\n",
    "    def __init__(self, input_size, hidden_size, output_size):\n",
    "        super(RNN, self).__init__()\n",
    "        \n",
    "        # initialize 所有需要的 layer (这里先不连, forward 部分再连)\n",
    "        self.hidden_size = hidden_size\n",
    "        # 这边 input size 因为是 combine 所以是两个加起来，然后output给 hidden 所以用 hidden_size\n",
    "        self.i2h = nn.Linear(input_size + hidden_size, hidden_size)\n",
    "        self.i2o = nn.Linear(input_size + hidden_size, output_size)\n",
    "        self.softmax = nn.LogSoftmax(dim=1) # 为啥 dim 1? 因为softmax 就一个 array 的output\n",
    "        \n",
    "    \n",
    "    # 这边 forward 就是写怎么连，怎么去 model 这个 forward path， 这里没有写 loss 因为\n",
    "    # 根据签名说 loss 包括在 softmax 里面了，所有不用专门定\n",
    "    # 这边连 layer, 我 A 连 B 直接 self.A(B) 这要写就可以\n",
    "    def forward(self, input_tensor, hidden_tensor): \n",
    "        # 就是上图的 hidden 和 input combine 然后给 output 和 hidden 用\n",
    "        combined = torch.cat((input_tensor, hidden_tensor), dim=1)\n",
    "        \n",
    "        hidden = self.i2h(combined)\n",
    "        output = self.i2o(combined)\n",
    "        output = self.softmax(output)\n",
    "        return output, hidden\n",
    "    \n",
    "    # 这个是因为我们需要 initial hidden state, \n",
    "    # 我们要 return 一个 empty tensor of 1 x hidden_size\n",
    "    def init_hidden(self):\n",
    "        return torch.zeros(1, self.hidden_size)\n",
    "        \n",
    "        "
   ]
  },
  {
   "cell_type": "code",
   "execution_count": 36,
   "id": "f5a77b41",
   "metadata": {},
   "outputs": [
    {
     "name": "stdout",
     "output_type": "stream",
     "text": [
      "18\n"
     ]
    }
   ],
   "source": [
    "category_lines, all_categories = load_data('./pytorch-examples/rnn-name-classification/data/names/*.txt')\n",
    "n_categories = len(all_categories)\n",
    "\n",
    "print(n_categories)"
   ]
  },
  {
   "cell_type": "code",
   "execution_count": 22,
   "id": "088786eb",
   "metadata": {},
   "outputs": [],
   "source": [
    "n_hidden = 128\n",
    "rnn = RNN(input_size=N_LETTERS, \n",
    "          hidden_size=n_hidden, \n",
    "          output_size=n_categories)\n"
   ]
  },
  {
   "cell_type": "code",
   "execution_count": 23,
   "id": "b2bd6b8a",
   "metadata": {},
   "outputs": [
    {
     "name": "stdout",
     "output_type": "stream",
     "text": [
      "torch.Size([1, 18])\n",
      "torch.Size([1, 128])\n"
     ]
    }
   ],
   "source": [
    "# one step 试一下 output 长啥样\n",
    "input_tensor = letter_to_tensor('A') # 就只给一个字母作为 input\n",
    "hidden_tensor = rnn.init_hidden() #用我们上面的 init_hidden 来弄一个 dummy hidden tensor\n",
    "\n",
    "# 这边 rnn(..) 就相当于直接 call forward path 了, 但是 rnn.forward 这样写清楚一些\n",
    "output, next_hidden = rnn.forward(input_tensor, hidden_tensor)\n",
    "\n",
    "#  看一下 output size 和 next_hidden size 长啥样\n",
    "print(output.size())\n",
    "print(next_hidden.size())"
   ]
  },
  {
   "cell_type": "code",
   "execution_count": 24,
   "id": "fc6e1cc7",
   "metadata": {},
   "outputs": [
    {
     "name": "stdout",
     "output_type": "stream",
     "text": [
      "torch.Size([1, 18])\n",
      "torch.Size([1, 128])\n"
     ]
    }
   ],
   "source": [
    "# whole sequence/name 试一下看直接给一个单词长啥样\n",
    "input_tensor = line_to_tensor('Albert')\n",
    "hidden_tensor = rnn.init_hidden()\n",
    "\n",
    "# 注意 line_to_tensor() output 的是 <line_length x 1 x n_letters>\n",
    "# 这里 input_tensor[0] 还是只看一个字母, 那么我整个 sequence 是咋写的? 估计后面 training 会有\n",
    "output, next_hidden = rnn(input_tensor[0], hidden_tensor)\n",
    "print(output.size())\n",
    "print(next_hidden.size())"
   ]
  },
  {
   "cell_type": "code",
   "execution_count": 25,
   "id": "76a21390",
   "metadata": {},
   "outputs": [
    {
     "name": "stdout",
     "output_type": "stream",
     "text": [
      "Italian\n"
     ]
    }
   ],
   "source": [
    "# helper function to turn tensor output into a category name\n",
    "def category_from_output(output):\n",
    "    category_idx = torch.argmax(output).item()\n",
    "    return all_categories[category_idx]\n",
    "\n",
    "# Italian 不对，因为没有 train 啦\n",
    "print(category_from_output(output))"
   ]
  },
  {
   "cell_type": "markdown",
   "id": "fb9a51d3",
   "metadata": {},
   "source": [
    "<font color='red'>Question</font>: 为啥 loss 用这个？不用 cross entropy\n",
    "\n",
    "<font color='green'>Answer</font>: 查了一下，好像就是一个东西，只是在 pytorch 里面 input 略有不同\n",
    "\n",
    "NNLoss: Negative Likelihood Loss Func: The negative log likelihood loss. It is useful to \n",
    "train a classification problem with C classes.\n",
    "\n",
    "when designing a neural network multi-class classifier, you can you CrossEntropyLoss with no activation, \n",
    "or you can use NLLLoss with log-SoftMax activation. This applies only to multi-class classification\n",
    "\n",
    "有人说就是一个东西: The negative log likelihood (eq.80) is also known as the multiclass cross-entropy\n",
    "as they are in fact two different interpretations of the same formula. 因为:\n",
    "- Loss = - (y*log(y_hat) + (1-y) log(1-y_hat))  就是 punish 当 y 猜的是 1, 然后 y_hat 是接近0, 或者当 y 猜的是 0, 然后 y_hat 是 接近1, \n",
    "\n",
    "感觉就是 pytorch 里面，如果我明确的写 logSoftMax 那就要用 NLL, 如果我用 Cross Entropy， 那么 softmax 就包括到里面了\n",
    "\n",
    "\n",
    "突然想起来， [Notebook] Deep Learning With PyTorch - Full Course 这个 noteoobk 里面我有写到的\n",
    "- \"CrossEntropyLoss in PyTorch (applies Softmax) nn.LogSoftmax + nn.NLLLoss\"\n",
    "\n",
    "\n",
    "ref: \n",
    "- https://jamesmccaffrey.wordpress.com/2020/06/11/pytorch-crossentropyloss-vs-nllloss-cross-entropy-loss-vs-negative-log-likelihood-loss/\n",
    "- https://discuss.pytorch.org/t/difference-between-cross-entropy-loss-or-log-likelihood-loss/38816/3"
   ]
  },
  {
   "cell_type": "code",
   "execution_count": 30,
   "id": "dc4ba0f2",
   "metadata": {},
   "outputs": [],
   "source": [
    "\n",
    "\n",
    "loss_func = nn.NLLLoss()\n",
    "learning_rate = 0.005\n",
    "optimizer = torch.optim.SGD(rnn.parameters(), lr=learning_rate)\n"
   ]
  },
  {
   "cell_type": "code",
   "execution_count": 31,
   "id": "6e09cd4f",
   "metadata": {},
   "outputs": [],
   "source": [
    "# name_tensor is the 1 hot encoding of name/word (1 x length x letter_n)\n",
    "# category_tensor is the 1 hot encoding of category (1 x category_n)\n",
    "# 这个就是 把每个 word/name 给一个个字母过一遍 rnn model, 然后 forward path (算 loss) 和 backword pass 算 gradient\n",
    "# 走一边\n",
    "def train_helper(name_tensor, category_tensor):\n",
    "    hidden = rnn.init_hidden()\n",
    "    \n",
    "    # sequence model sliding window 1 by 1 to generate the rnn output tensor for each name\n",
    "    for i in range(name_tensor.size()[0]):\n",
    "        output, hidden = rnn(name_tensor[i], hidden)\n",
    "        \n",
    "    loss = loss_func(output, category_tensor)\n",
    "    \n",
    "    optimizer.zero_grad()\n",
    "    loss.backward()\n",
    "    optimizer.step()\n",
    "    \n",
    "    return output, loss.item()"
   ]
  },
  {
   "cell_type": "code",
   "execution_count": 32,
   "id": "2a85921f",
   "metadata": {},
   "outputs": [
    {
     "name": "stdout",
     "output_type": "stream",
     "text": [
      "5000 5.0 1.9597 Guo / Chinese CORRECT\n",
      "10000 10.0 1.2869 Kawakami / Japanese CORRECT\n",
      "15000 15.0 1.5428 Wilson / Scottish CORRECT\n",
      "20000 20.0 2.6635 Macshuibhne / Russian WRONG (Irish)\n",
      "25000 25.0 1.4970 Ganim / Arabic CORRECT\n",
      "30000 30.0 0.3449 Morrison / Scottish CORRECT\n",
      "35000 35.0 0.9213 Akkeren / Dutch CORRECT\n",
      "40000 40.0 3.8862 Can / Chinese WRONG (Dutch)\n",
      "45000 45.0 3.6495 Cerv / Dutch WRONG (Czech)\n",
      "50000 50.0 1.0242 Oleastro / Spanish CORRECT\n",
      "55000 55.00000000000001 1.3552 Forestier / French CORRECT\n",
      "60000 60.0 0.5909 Shui / Chinese CORRECT\n",
      "65000 65.0 2.3692 Quigley / English WRONG (Irish)\n",
      "70000 70.0 0.3127 Ramsay / Scottish CORRECT\n",
      "75000 75.0 2.7606 Gentile / French WRONG (Italian)\n",
      "80000 80.0 1.5806 Gomes / Arabic WRONG (Portuguese)\n",
      "85000 85.0 0.1160 Aswad / Arabic CORRECT\n",
      "90000 90.0 3.2340 Laterza / Portuguese WRONG (Italian)\n",
      "95000 95.0 0.2801 Fermi / Italian CORRECT\n",
      "100000 100.0 0.0569 Paraskos / Greek CORRECT\n"
     ]
    },
    {
     "data": {
      "image/png": "[encoded data removed]",
      "text/plain": [
       "<Figure size 432x288 with 1 Axes>"
      ]
     },
     "metadata": {
      "needs_background": "light"
     },
     "output_type": "display_data"
    }
   ],
   "source": [
    "current_loss = 0\n",
    "all_losses = []\n",
    "plot_steps, print_steps = 1000, 5000\n",
    "n_iters = 100000\n",
    "for i in range(n_iters):\n",
    "    # category_lines is a category to name list map\n",
    "     #     random_training_example\n",
    "    category, name, category_tensor, name_tensor = random_training_example(category_lines, all_categories)\n",
    "    \n",
    "    output, loss = train_helper(line_tensor, category_tensor)\n",
    "    current_loss += loss \n",
    "    \n",
    "    if (i+1) % plot_steps == 0:\n",
    "        all_losses.append(current_loss / plot_steps)\n",
    "        current_loss = 0\n",
    "        \n",
    "    if (i+1) % print_steps == 0:\n",
    "        guess = category_from_output(output)\n",
    "        correct = \"CORRECT\" if guess == category else f\"WRONG ({category})\"\n",
    "        print(f\"{i+1} {(i+1)/n_iters*100} {loss:.4f} {line} / {guess} {correct}\")\n",
    "        \n",
    "    \n",
    "plt.figure()\n",
    "plt.plot(all_losses)\n",
    "plt.show()"
   ]
  },
  {
   "cell_type": "code",
   "execution_count": 33,
   "id": "6ac75eeb",
   "metadata": {},
   "outputs": [],
   "source": [
    "def predict(input_line):\n",
    "    print(f\"\\n> {input_line}\")\n",
    "    with torch.no_grad():\n",
    "        line_tensor = line_to_tensor(input_line)\n",
    "        \n",
    "        hidden = rnn.init_hidden()\n",
    "    \n",
    "        for i in range(line_tensor.size()[0]):\n",
    "            output, hidden = rnn(line_tensor[i], hidden)\n",
    "        \n",
    "        guess = category_from_output(output)\n",
    "        print(guess)"
   ]
  },
  {
   "cell_type": "code",
   "execution_count": 35,
   "id": "971d7f10",
   "metadata": {},
   "outputs": [
    {
     "name": "stdout",
     "output_type": "stream",
     "text": [
      "\n",
      "> Ashley\n",
      "English\n"
     ]
    }
   ],
   "source": [
    "predict(\"Ashley\")"
   ]
  },
  {
   "cell_type": "code",
   "execution_count": null,
   "id": "4b85960d",
   "metadata": {},
   "outputs": [],
   "source": []
  }
 ],
 "metadata": {
  "kernelspec": {
   "display_name": "Python 3 (ipykernel)",
   "language": "python",
   "name": "python3"
  },
  "language_info": {
   "codemirror_mode": {
    "name": "ipython",
    "version": 3
   },
   "file_extension": ".py",
   "mimetype": "text/x-python",
   "name": "python",
   "nbconvert_exporter": "python",
   "pygments_lexer": "ipython3",
   "version": "3.7.13"
  }
 },
 "nbformat": 4,
 "nbformat_minor": 5
}
